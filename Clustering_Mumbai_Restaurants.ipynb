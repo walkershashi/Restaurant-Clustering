{
 "cells": [
  {
   "cell_type": "code",
   "execution_count": 1,
   "metadata": {},
   "outputs": [
    {
     "output_type": "stream",
     "name": "stdout",
     "text": [
      "Libraries Imported\n"
     ]
    }
   ],
   "source": [
    "import numpy as np\n",
    "import pandas as pd\n",
    "import json\n",
    "import requests\n",
    "import matplotlib.pyplot as plt\n",
    "import folium\n",
    "import geopy\n",
    "from pandas.io.json import json_normalize\n",
    "from geopy.geocoders import Nominatim\n",
    "\n",
    "print('Libraries Imported')"
   ]
  },
  {
   "cell_type": "markdown",
   "metadata": {},
   "source": [
    "### Clustering Venues in Mumbai based on Search Query"
   ]
  },
  {
   "cell_type": "code",
   "execution_count": 2,
   "metadata": {},
   "outputs": [
    {
     "output_type": "stream",
     "name": "stdout",
     "text": [
      "Your credentails:\nCLIENT_ID: OECZ01BUCTDUDGR0YUA4VKHV1T4COOU5535O5OKPCJFEAU3F\nCLIENT_SECRET:FETLWMYN0AT51PPEKTIYBFRENECKX1OBTUMNN5U2BHI3TH0K\n"
     ]
    }
   ],
   "source": [
    "# Define Foursquare Credentials\n",
    "\n",
    "CLIENT_ID = 'OECZ01BUCTDUDGR0YUA4VKHV1T4COOU5535O5OKPCJFEAU3F' # your Foursquare ID\n",
    "CLIENT_SECRET = 'FETLWMYN0AT51PPEKTIYBFRENECKX1OBTUMNN5U2BHI3TH0K' # your Foursquare Secret\n",
    "VERSION = '20180605' # Foursquare API version\n",
    "LIMIT = 150\n",
    "\n",
    "print('Your credentails:')\n",
    "print('CLIENT_ID: ' + CLIENT_ID)\n",
    "print('CLIENT_SECRET:' + CLIENT_SECRET)"
   ]
  },
  {
   "cell_type": "markdown",
   "metadata": {},
   "source": [
    "#### First get the Co-Ordinates of Mumbai"
   ]
  },
  {
   "cell_type": "code",
   "execution_count": 106,
   "metadata": {},
   "outputs": [
    {
     "name": "stdout",
     "output_type": "stream",
     "text": [
      "The geograpical coordinate of Mumbai are 18.9387711, 72.8353355.\n"
     ]
    }
   ],
   "source": [
    "address = 'Mumbai'\n",
    "geolocator = Nominatim(user_agent=\"ny_explorer\")\n",
    "location = geolocator.geocode(address)\n",
    "\n",
    "latitude = location.latitude\n",
    "longitude = location.longitude\n",
    "\n",
    "print('The geograpical coordinate of Mumbai are {}, {}.'.format(latitude, longitude))"
   ]
  },
  {
   "cell_type": "code",
   "execution_count": 3,
   "metadata": {},
   "outputs": [],
   "source": [
    "latitude, longitude = 18.9387711, 72.8353355"
   ]
  },
  {
   "cell_type": "markdown",
   "metadata": {},
   "source": [
    "#### Visualize Mumbai on a MAP"
   ]
  },
  {
   "cell_type": "code",
   "execution_count": 4,
   "metadata": {},
   "outputs": [
    {
     "output_type": "execute_result",
     "data": {
      "text/plain": [
       "<folium.folium.Map at 0x28302cfb808>"
      ],
      "text/html": "<div style=\"width:100%;\"><div style=\"position:relative;width:100%;height:0;padding-bottom:60%;\"><span style=\"color:#565656\">Make this Notebook Trusted to load map: File -> Trust Notebook</span><iframe src=\"about:blank\" style=\"position:absolute;width:100%;height:100%;left:0;top:0;border:none !important;\" data-html=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 onload=\"this.contentDocument.open();this.contentDocument.write(atob(this.getAttribute('data-html')));this.contentDocument.close();\" allowfullscreen webkitallowfullscreen mozallowfullscreen></iframe></div></div>"
     },
     "metadata": {},
     "execution_count": 4
    }
   ],
   "source": [
    "folium.Map(location = [latitude, longitude], zoom_start = 11)"
   ]
  },
  {
   "cell_type": "markdown",
   "metadata": {},
   "source": [
    "#### Enter the Search Query to search for a particular venues"
   ]
  },
  {
   "cell_type": "code",
   "execution_count": 5,
   "metadata": {},
   "outputs": [
    {
     "output_type": "stream",
     "name": "stdout",
     "text": [
      "restaurant .... OK!\n"
     ]
    }
   ],
   "source": [
    "search_query = 'restaurant'\n",
    "radius = 1500\n",
    "print(search_query + ' .... OK!')"
   ]
  },
  {
   "cell_type": "code",
   "execution_count": 6,
   "metadata": {},
   "outputs": [
    {
     "output_type": "execute_result",
     "data": {
      "text/plain": [
       "'https://api.foursquare.com/v2/venues/search?client_id=OECZ01BUCTDUDGR0YUA4VKHV1T4COOU5535O5OKPCJFEAU3F&client_secret=FETLWMYN0AT51PPEKTIYBFRENECKX1OBTUMNN5U2BHI3TH0K&ll=18.9387711,72.8353355&v=20180605&query=restaurant&radius=1500&limit=150'"
      ]
     },
     "metadata": {},
     "execution_count": 6
    }
   ],
   "source": [
    "# Define url with parameters\n",
    "url = 'https://api.foursquare.com/v2/venues/search?client_id={}&client_secret={}&ll={},{}&v={}&query={}&radius={}&limit={}'.format(CLIENT_ID, CLIENT_SECRET, latitude, longitude, VERSION, search_query, radius, LIMIT)\n",
    "url"
   ]
  },
  {
   "cell_type": "markdown",
   "metadata": {},
   "source": [
    "#### Get the response form the foursquare API"
   ]
  },
  {
   "cell_type": "code",
   "execution_count": 7,
   "metadata": {},
   "outputs": [],
   "source": [
    "results = requests.get(url).json()\n",
    "#results"
   ]
  },
  {
   "cell_type": "code",
   "execution_count": 8,
   "metadata": {},
   "outputs": [
    {
     "output_type": "execute_result",
     "data": {
      "text/plain": [
       "dict_keys(['meta', 'response'])"
      ]
     },
     "metadata": {},
     "execution_count": 8
    }
   ],
   "source": [
    "results.keys()"
   ]
  },
  {
   "source": [
    "The results returned has two keys and has all the relevant information in the <code>response</code> key.The details of all the venues returned by the FourSquare API are available in the <code>venues</code> keys, which is a list.\n",
    "\n",
    "##### Let's have a look at the first venue"
   ],
   "cell_type": "markdown",
   "metadata": {}
  },
  {
   "cell_type": "code",
   "execution_count": 11,
   "metadata": {},
   "outputs": [
    {
     "output_type": "execute_result",
     "data": {
      "text/plain": [
       "{'id': '5263f0f5498edc1ad5f3270f',\n",
       " 'name': 'Nanumal Bhojraj Restaurant - Fort',\n",
       " 'location': {'address': 'Near GPO, Fort, VT',\n",
       "  'crossStreet': 'S. Bhagat Singh Road',\n",
       "  'lat': 18.937974485877348,\n",
       "  'lng': 72.83766325414364,\n",
       "  'labeledLatLngs': [{'label': 'display',\n",
       "    'lat': 18.937974485877348,\n",
       "    'lng': 72.83766325414364}],\n",
       "  'distance': 260,\n",
       "  'postalCode': '400001',\n",
       "  'cc': 'IN',\n",
       "  'city': 'Mumbai',\n",
       "  'state': 'Mahārāshtra',\n",
       "  'country': 'India',\n",
       "  'formattedAddress': ['Near GPO, Fort, VT (S. Bhagat Singh Road)',\n",
       "   'Mumbai 400001',\n",
       "   'Mahārāshtra',\n",
       "   'India']},\n",
       " 'categories': [{'id': '4bf58dd8d48988d10f941735',\n",
       "   'name': 'Indian Restaurant',\n",
       "   'pluralName': 'Indian Restaurants',\n",
       "   'shortName': 'Indian',\n",
       "   'icon': {'prefix': 'https://ss3.4sqi.net/img/categories_v2/food/indian_',\n",
       "    'suffix': '.png'},\n",
       "   'primary': True}],\n",
       " 'referralId': 'v-1604807989',\n",
       " 'hasPerk': False}"
      ]
     },
     "metadata": {},
     "execution_count": 11
    }
   ],
   "source": [
    "results['response']['venues'][0]"
   ]
  },
  {
   "cell_type": "markdown",
   "metadata": {},
   "source": [
    "#### Convert the response returned into a data frame for model development\n",
    "\n",
    "We can Convert the results in to a dataframe using json_normalize() function"
   ]
  },
  {
   "cell_type": "code",
   "execution_count": 12,
   "metadata": {},
   "outputs": [
    {
     "output_type": "execute_result",
     "data": {
      "text/plain": [
       "                         id                               name  \\\n",
       "0  5263f0f5498edc1ad5f3270f  Nanumal Bhojraj Restaurant - Fort   \n",
       "1  4e4c0a4122713bd908c641ff                 Farhang Restaurant   \n",
       "2  4fb5276be4b0b34b9ac27a1b               Iran Like Restaurant   \n",
       "3  4d9f2bfe9b91a1cda6c365c0            New Majestic Restaurant   \n",
       "4  4c09449eed2595217aee1256        Stadium Restaurant & Stores   \n",
       "\n",
       "                                          categories    referralId  hasPerk  \\\n",
       "0  [{'id': '4bf58dd8d48988d10f941735', 'name': 'I...  v-1604807989    False   \n",
       "1  [{'id': '4bf58dd8d48988d1cc941735', 'name': 'S...  v-1604807989    False   \n",
       "2  [{'id': '4bf58dd8d48988d10f941735', 'name': 'I...  v-1604807989    False   \n",
       "3  [{'id': '4bf58dd8d48988d10f941735', 'name': 'I...  v-1604807989    False   \n",
       "4  [{'id': '4bf58dd8d48988d10f941735', 'name': 'I...  v-1604807989    False   \n",
       "\n",
       "              location.address                location.crossStreet  \\\n",
       "0           Near GPO, Fort, VT                S. Bhagat Singh Road   \n",
       "1                 Opposite GPO                      Ballard Estate   \n",
       "2  Palton Road, Near Haj House                                 NaN   \n",
       "3                      Opp CST                                 NaN   \n",
       "4            Veer Nariman Road  Next to Vodafone Store, Churchgate   \n",
       "\n",
       "   location.lat  location.lng  \\\n",
       "0     18.937974     72.837663   \n",
       "1     18.938165     72.837917   \n",
       "2     18.945343     72.836809   \n",
       "3     18.938972     72.835517   \n",
       "4     18.933173     72.826929   \n",
       "\n",
       "                             location.labeledLatLngs  location.distance  \\\n",
       "0  [{'label': 'display', 'lat': 18.93797448587734...                260   \n",
       "1  [{'label': 'display', 'lat': 18.93816453050136...                280   \n",
       "2  [{'label': 'display', 'lat': 18.94534293649397...                747   \n",
       "3  [{'label': 'display', 'lat': 18.93897156089674...                 29   \n",
       "4  [{'label': 'display', 'lat': 18.93317339191467...               1082   \n",
       "\n",
       "  location.postalCode location.cc location.city location.state  \\\n",
       "0              400001          IN        Mumbai    Mahārāshtra   \n",
       "1                 NaN          IN        Mumbai    Mahārāshtra   \n",
       "2              400001          IN        Mumbai    Mahārāshtra   \n",
       "3                 NaN          IN        Mumbai    Mahārāshtra   \n",
       "4              400023          IN        Mumbai    Mahārāshtra   \n",
       "\n",
       "  location.country                          location.formattedAddress  \n",
       "0            India  [Near GPO, Fort, VT (S. Bhagat Singh Road), Mu...  \n",
       "1            India  [Opposite GPO (Ballard Estate), Mumbai, Mahārā...  \n",
       "2            India  [Palton Road, Near Haj House, Mumbai 400001, M...  \n",
       "3            India              [Opp CST, Mumbai, Mahārāshtra, India]  \n",
       "4            India  [Veer Nariman Road (Next to Vodafone Store, Ch...  "
      ],
      "text/html": "<div>\n<style scoped>\n    .dataframe tbody tr th:only-of-type {\n        vertical-align: middle;\n    }\n\n    .dataframe tbody tr th {\n        vertical-align: top;\n    }\n\n    .dataframe thead th {\n        text-align: right;\n    }\n</style>\n<table border=\"1\" class=\"dataframe\">\n  <thead>\n    <tr style=\"text-align: right;\">\n      <th></th>\n      <th>id</th>\n      <th>name</th>\n      <th>categories</th>\n      <th>referralId</th>\n      <th>hasPerk</th>\n      <th>location.address</th>\n      <th>location.crossStreet</th>\n      <th>location.lat</th>\n      <th>location.lng</th>\n      <th>location.labeledLatLngs</th>\n      <th>location.distance</th>\n      <th>location.postalCode</th>\n      <th>location.cc</th>\n      <th>location.city</th>\n      <th>location.state</th>\n      <th>location.country</th>\n      <th>location.formattedAddress</th>\n    </tr>\n  </thead>\n  <tbody>\n    <tr>\n      <th>0</th>\n      <td>5263f0f5498edc1ad5f3270f</td>\n      <td>Nanumal Bhojraj Restaurant - Fort</td>\n      <td>[{'id': '4bf58dd8d48988d10f941735', 'name': 'I...</td>\n      <td>v-1604807989</td>\n      <td>False</td>\n      <td>Near GPO, Fort, VT</td>\n      <td>S. Bhagat Singh Road</td>\n      <td>18.937974</td>\n      <td>72.837663</td>\n      <td>[{'label': 'display', 'lat': 18.93797448587734...</td>\n      <td>260</td>\n      <td>400001</td>\n      <td>IN</td>\n      <td>Mumbai</td>\n      <td>Mahārāshtra</td>\n      <td>India</td>\n      <td>[Near GPO, Fort, VT (S. Bhagat Singh Road), Mu...</td>\n    </tr>\n    <tr>\n      <th>1</th>\n      <td>4e4c0a4122713bd908c641ff</td>\n      <td>Farhang Restaurant</td>\n      <td>[{'id': '4bf58dd8d48988d1cc941735', 'name': 'S...</td>\n      <td>v-1604807989</td>\n      <td>False</td>\n      <td>Opposite GPO</td>\n      <td>Ballard Estate</td>\n      <td>18.938165</td>\n      <td>72.837917</td>\n      <td>[{'label': 'display', 'lat': 18.93816453050136...</td>\n      <td>280</td>\n      <td>NaN</td>\n      <td>IN</td>\n      <td>Mumbai</td>\n      <td>Mahārāshtra</td>\n      <td>India</td>\n      <td>[Opposite GPO (Ballard Estate), Mumbai, Mahārā...</td>\n    </tr>\n    <tr>\n      <th>2</th>\n      <td>4fb5276be4b0b34b9ac27a1b</td>\n      <td>Iran Like Restaurant</td>\n      <td>[{'id': '4bf58dd8d48988d10f941735', 'name': 'I...</td>\n      <td>v-1604807989</td>\n      <td>False</td>\n      <td>Palton Road, Near Haj House</td>\n      <td>NaN</td>\n      <td>18.945343</td>\n      <td>72.836809</td>\n      <td>[{'label': 'display', 'lat': 18.94534293649397...</td>\n      <td>747</td>\n      <td>400001</td>\n      <td>IN</td>\n      <td>Mumbai</td>\n      <td>Mahārāshtra</td>\n      <td>India</td>\n      <td>[Palton Road, Near Haj House, Mumbai 400001, M...</td>\n    </tr>\n    <tr>\n      <th>3</th>\n      <td>4d9f2bfe9b91a1cda6c365c0</td>\n      <td>New Majestic Restaurant</td>\n      <td>[{'id': '4bf58dd8d48988d10f941735', 'name': 'I...</td>\n      <td>v-1604807989</td>\n      <td>False</td>\n      <td>Opp CST</td>\n      <td>NaN</td>\n      <td>18.938972</td>\n      <td>72.835517</td>\n      <td>[{'label': 'display', 'lat': 18.93897156089674...</td>\n      <td>29</td>\n      <td>NaN</td>\n      <td>IN</td>\n      <td>Mumbai</td>\n      <td>Mahārāshtra</td>\n      <td>India</td>\n      <td>[Opp CST, Mumbai, Mahārāshtra, India]</td>\n    </tr>\n    <tr>\n      <th>4</th>\n      <td>4c09449eed2595217aee1256</td>\n      <td>Stadium Restaurant &amp; Stores</td>\n      <td>[{'id': '4bf58dd8d48988d10f941735', 'name': 'I...</td>\n      <td>v-1604807989</td>\n      <td>False</td>\n      <td>Veer Nariman Road</td>\n      <td>Next to Vodafone Store, Churchgate</td>\n      <td>18.933173</td>\n      <td>72.826929</td>\n      <td>[{'label': 'display', 'lat': 18.93317339191467...</td>\n      <td>1082</td>\n      <td>400023</td>\n      <td>IN</td>\n      <td>Mumbai</td>\n      <td>Mahārāshtra</td>\n      <td>India</td>\n      <td>[Veer Nariman Road (Next to Vodafone Store, Ch...</td>\n    </tr>\n  </tbody>\n</table>\n</div>"
     },
     "metadata": {},
     "execution_count": 12
    }
   ],
   "source": [
    "venues_df = json_normalize(results['response']['venues'])\n",
    "venues_df.head()"
   ]
  },
  {
   "cell_type": "code",
   "execution_count": 13,
   "metadata": {},
   "outputs": [
    {
     "output_type": "execute_result",
     "data": {
      "text/plain": [
       "(50, 17)"
      ]
     },
     "metadata": {},
     "execution_count": 13
    }
   ],
   "source": [
    "# Let us look at the number of venues returned\n",
    "venues_df.shape"
   ]
  },
  {
   "cell_type": "markdown",
   "metadata": {},
   "source": [
    "#### Cleaning the dataframe and retrieving only the relevant information from it"
   ]
  },
  {
   "source": [
    "The categories columns has a lots of metadata, but we are only interested in the categories name.\n",
    "\n",
    "Not all rows has a category, we return <code>NaN</code> for empty categories and name otherwise\n",
    "\n",
    "##### Let's define a function to extract the categories from each entry."
   ],
   "cell_type": "markdown",
   "metadata": {}
  },
  {
   "cell_type": "code",
   "execution_count": 14,
   "metadata": {},
   "outputs": [],
   "source": [
    "def get_category(row):\n",
    "    try:\n",
    "        return row[0]['name']\n",
    "    except:\n",
    "        # return nan for no category\n",
    "        return np.NaN"
   ]
  },
  {
   "cell_type": "code",
   "execution_count": 15,
   "metadata": {},
   "outputs": [
    {
     "output_type": "execute_result",
     "data": {
      "text/plain": [
       "                                Name         Categories  \\\n",
       "0  Nanumal Bhojraj Restaurant - Fort  Indian Restaurant   \n",
       "1                 Farhang Restaurant         Steakhouse   \n",
       "2               Iran Like Restaurant  Indian Restaurant   \n",
       "3            New Majestic Restaurant  Indian Restaurant   \n",
       "4        Stadium Restaurant & Stores  Indian Restaurant   \n",
       "\n",
       "                       Address   Latitude  Longitude  Distance  \\\n",
       "0           Near GPO, Fort, VT  18.937974  72.837663       260   \n",
       "1                 Opposite GPO  18.938165  72.837917       280   \n",
       "2  Palton Road, Near Haj House  18.945343  72.836809       747   \n",
       "3                      Opp CST  18.938972  72.835517        29   \n",
       "4            Veer Nariman Road  18.933173  72.826929      1082   \n",
       "\n",
       "                         Id  \n",
       "0  5263f0f5498edc1ad5f3270f  \n",
       "1  4e4c0a4122713bd908c641ff  \n",
       "2  4fb5276be4b0b34b9ac27a1b  \n",
       "3  4d9f2bfe9b91a1cda6c365c0  \n",
       "4  4c09449eed2595217aee1256  "
      ],
      "text/html": "<div>\n<style scoped>\n    .dataframe tbody tr th:only-of-type {\n        vertical-align: middle;\n    }\n\n    .dataframe tbody tr th {\n        vertical-align: top;\n    }\n\n    .dataframe thead th {\n        text-align: right;\n    }\n</style>\n<table border=\"1\" class=\"dataframe\">\n  <thead>\n    <tr style=\"text-align: right;\">\n      <th></th>\n      <th>Name</th>\n      <th>Categories</th>\n      <th>Address</th>\n      <th>Latitude</th>\n      <th>Longitude</th>\n      <th>Distance</th>\n      <th>Id</th>\n    </tr>\n  </thead>\n  <tbody>\n    <tr>\n      <th>0</th>\n      <td>Nanumal Bhojraj Restaurant - Fort</td>\n      <td>Indian Restaurant</td>\n      <td>Near GPO, Fort, VT</td>\n      <td>18.937974</td>\n      <td>72.837663</td>\n      <td>260</td>\n      <td>5263f0f5498edc1ad5f3270f</td>\n    </tr>\n    <tr>\n      <th>1</th>\n      <td>Farhang Restaurant</td>\n      <td>Steakhouse</td>\n      <td>Opposite GPO</td>\n      <td>18.938165</td>\n      <td>72.837917</td>\n      <td>280</td>\n      <td>4e4c0a4122713bd908c641ff</td>\n    </tr>\n    <tr>\n      <th>2</th>\n      <td>Iran Like Restaurant</td>\n      <td>Indian Restaurant</td>\n      <td>Palton Road, Near Haj House</td>\n      <td>18.945343</td>\n      <td>72.836809</td>\n      <td>747</td>\n      <td>4fb5276be4b0b34b9ac27a1b</td>\n    </tr>\n    <tr>\n      <th>3</th>\n      <td>New Majestic Restaurant</td>\n      <td>Indian Restaurant</td>\n      <td>Opp CST</td>\n      <td>18.938972</td>\n      <td>72.835517</td>\n      <td>29</td>\n      <td>4d9f2bfe9b91a1cda6c365c0</td>\n    </tr>\n    <tr>\n      <th>4</th>\n      <td>Stadium Restaurant &amp; Stores</td>\n      <td>Indian Restaurant</td>\n      <td>Veer Nariman Road</td>\n      <td>18.933173</td>\n      <td>72.826929</td>\n      <td>1082</td>\n      <td>4c09449eed2595217aee1256</td>\n    </tr>\n  </tbody>\n</table>\n</div>"
     },
     "metadata": {},
     "execution_count": 15
    }
   ],
   "source": [
    "# Arrange the dataframe \n",
    "venues_df = venues_df[['name', 'categories', 'location.address', 'location.lat', 'location.lng', 'location.distance', 'id']]\n",
    "\n",
    "# Get the cateogories of each venue\n",
    "venues_df['categories'] = venues_df['categories'].apply(get_category)\n",
    "\n",
    "# Rename the columns to be relevant with the entries\n",
    "venues_df.columns = ['Name', 'Categories', 'Address', 'Latitude', 'Longitude', 'Distance', 'Id']\n",
    "\n",
    "# Replace the NaN Categories with the highest occurence of the category, ie. 'Indian Restaurant'  \n",
    "venues_df['Categories'].fillna('Indian Restaurant', inplace = True)\n",
    "\n",
    "venues_df.head()"
   ]
  },
  {
   "cell_type": "code",
   "execution_count": 16,
   "metadata": {},
   "outputs": [
    {
     "output_type": "execute_result",
     "data": {
      "text/plain": [
       "Indian Restaurant                  22\n",
       "Restaurant                          4\n",
       "Asian Restaurant                    4\n",
       "Snack Place                         2\n",
       "Bar                                 2\n",
       "Southern / Soul Food Restaurant     1\n",
       "Seafood Restaurant                  1\n",
       "Steakhouse                          1\n",
       "BBQ Joint                           1\n",
       "English Restaurant                  1\n",
       "Gastropub                           1\n",
       "Cantonese Restaurant                1\n",
       "Mughlai Restaurant                  1\n",
       "Vegetarian / Vegan Restaurant       1\n",
       "Punjabi Restaurant                  1\n",
       "Lounge                              1\n",
       "Afghan Restaurant                   1\n",
       "Food                                1\n",
       "Fast Food Restaurant                1\n",
       "Hotel Bar                           1\n",
       "Irani Cafe                          1\n",
       "Name: Categories, dtype: int64"
      ]
     },
     "metadata": {},
     "execution_count": 16
    }
   ],
   "source": [
    "# Explore venues from each category\n",
    "venues_df['Categories'].value_counts()"
   ]
  },
  {
   "cell_type": "markdown",
   "metadata": {},
   "source": [
    "#### Visualize the nearby venues on a MAP"
   ]
  },
  {
   "cell_type": "code",
   "execution_count": 18,
   "metadata": {},
   "outputs": [
    {
     "output_type": "execute_result",
     "data": {
      "text/plain": [
       "<folium.folium.Map at 0x28303e0e248>"
      ],
      "text/html": "<div style=\"width:100%;\"><div style=\"position:relative;width:100%;height:0;padding-bottom:60%;\"><span style=\"color:#565656\">Make this Notebook Trusted to load map: File -> Trust Notebook</span><iframe src=\"about:blank\" style=\"position:absolute;width:100%;height:100%;left:0;top:0;border:none !important;\" data-html=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 onload=\"this.contentDocument.open();this.contentDocument.write(atob(this.getAttribute('data-html')));this.contentDocument.close();\" allowfullscreen webkitallowfullscreen mozallowfullscreen></iframe></div></div>"
     },
     "metadata": {},
     "execution_count": 18
    }
   ],
   "source": [
    "# Display the mumbai map\n",
    "mumbai_map = folium.Map(location = [latitude, longitude], zoom_start = 15)\n",
    "\n",
    "# Display start location using a red marker\n",
    "folium.CircleMarker(\n",
    "    [latitude, longitude],\n",
    "    radius=10,\n",
    "    color='red',\n",
    "    popup='Your Loc',\n",
    "    fill = True,\n",
    "    fill_color = 'red',\n",
    "    fill_opacity = 0.6\n",
    ").add_to(mumbai_map)\n",
    "\n",
    "# Display Venues\n",
    "for lat, lng in zip(venues_df.Latitude, venues_df.Longitude):\n",
    "    folium.CircleMarker(\n",
    "        [lat, lng],\n",
    "        radius = 5,\n",
    "        color = 'yellow',\n",
    "        fill = True,\n",
    "        fill_color = 'blue',\n",
    "        fill_opacity = 0.6\n",
    "    ).add_to(mumbai_map)\n",
    "    \n",
    "# Display popup text for each venue\n",
    "for lat, lng, label in zip(venues_df.Latitude, venues_df.Longitude, venues_df.Name):\n",
    "    folium.Marker(\n",
    "        [lat, lng],\n",
    "        popup = label\n",
    "    ).add_to(mumbai_map)\n",
    "\n",
    "\n",
    "mumbai_map"
   ]
  },
  {
   "source": [],
   "cell_type": "markdown",
   "metadata": {}
  },
  {
   "cell_type": "markdown",
   "metadata": {},
   "source": [
    "### Exploring all the Venues around the given co-ordinates "
   ]
  },
  {
   "cell_type": "markdown",
   "metadata": {},
   "source": [
    "#### Let us define a function to return all the venues located nearby these venues"
   ]
  },
  {
   "cell_type": "code",
   "execution_count": 19,
   "metadata": {},
   "outputs": [],
   "source": [
    "def getNearbyVenues(names, latitudes, longitudes, radius = 500, limit = 100):\n",
    "    # venues space to store all the details\n",
    "    venues_list = []\n",
    "    \n",
    "    # Iterate through different lat, lng\n",
    "    for name, lat, lng in zip(names, latitudes, longitudes):\n",
    "        url = 'https://api.foursquare.com/v2/venues/explore?&client_id={}&client_secret={}&v={}&ll={},{}&radius={}&limit={}'.format(\n",
    "            CLIENT_ID, \n",
    "            CLIENT_SECRET, \n",
    "            VERSION, \n",
    "            lat, \n",
    "            lng, \n",
    "            radius, \n",
    "            limit)\n",
    "        \n",
    "        # Get the result\n",
    "        venues = requests.get(url).json()['response']['groups'][0]['items']\n",
    "        \n",
    "        # Add the results to the venues_list\n",
    "        for venue in venues:\n",
    "            venues_list.append([(\n",
    "                name, \n",
    "                lat, \n",
    "                lng,\n",
    "                venue['venue']['name'],\n",
    "                venue['venue']['categories'][0]['name'],\n",
    "                venue['venue']['location']['lat'],\n",
    "                venue['venue']['location']['lng']\n",
    "            )])\n",
    "    \n",
    "    nearby_venues_df = pd.DataFrame(venues_list)\n",
    "    \n",
    "    return(nearby_venues_df)"
   ]
  },
  {
   "cell_type": "code",
   "execution_count": 20,
   "metadata": {},
   "outputs": [],
   "source": [
    "# Get all the venues\n",
    "mumbai_venues = getNearbyVenues(\n",
    "    names = venues_df['Name'],\n",
    "    latitudes = venues_df['Latitude'],\n",
    "    longitudes = venues_df['Longitude']\n",
    ")"
   ]
  },
  {
   "cell_type": "markdown",
   "metadata": {},
   "source": [
    "#### Cleaning the dataframe and retrieving only the relevant information from it\n",
    "\n",
    "The dataframe returned is not clean, lets filter the columns to return all the relevant information from it. Each row in the dataframe is a tuple of the form <br>\n",
    "<code>(venue name, venue latitude, venue longitude, Neighbourhood Name, Neighbourhood Category, Neighbourhood latitude, Neighbourhood longitude)</code>"
   ]
  },
  {
   "cell_type": "code",
   "execution_count": 21,
   "metadata": {},
   "outputs": [],
   "source": [
    "mumbai_venues['Venue'] = mumbai_venues.apply(lambda x: x[0][0], axis = 1)\n",
    "mumbai_venues['Venue Latitude'] = mumbai_venues.apply(lambda x: x[0][1], axis = 1)\n",
    "mumbai_venues['Venue Longitude'] = mumbai_venues.apply(lambda x: x[0][2], axis = 1)\n",
    "mumbai_venues['Neighbourhood Name'] = mumbai_venues.apply(lambda x: x[0][3], axis = 1)\n",
    "mumbai_venues['Neighbourhood Category'] = mumbai_venues.apply(lambda x: x[0][4], axis = 1)\n",
    "mumbai_venues['Neighbourhood Latitude'] = mumbai_venues.apply(lambda x: x[0][5], axis = 1)\n",
    "mumbai_venues['Neighbourhood Longitude'] = mumbai_venues.apply(lambda x: x[0][6], axis = 1)\n",
    "\n",
    "# lets drop the first column containing a tuple\n",
    "mumbai_venues.drop(0, axis = 1, inplace = True)"
   ]
  },
  {
   "cell_type": "code",
   "execution_count": 22,
   "metadata": {},
   "outputs": [
    {
     "output_type": "execute_result",
     "data": {
      "text/plain": [
       "                               Venue  Venue Latitude  Venue Longitude  \\\n",
       "0  Nanumal Bhojraj Restaurant - Fort       18.937974        72.837663   \n",
       "1  Nanumal Bhojraj Restaurant - Fort       18.937974        72.837663   \n",
       "2  Nanumal Bhojraj Restaurant - Fort       18.937974        72.837663   \n",
       "3  Nanumal Bhojraj Restaurant - Fort       18.937974        72.837663   \n",
       "4  Nanumal Bhojraj Restaurant - Fort       18.937974        72.837663   \n",
       "\n",
       "        Neighbourhood Name Neighbourhood Category  Neighbourhood Latitude  \\\n",
       "0            Sher-E-Punjab      Indian Restaurant               18.937944   \n",
       "1  Dakshin Bar And Kitchen     Seafood Restaurant               18.936489   \n",
       "2           Café Universal             Irani Cafe               18.936021   \n",
       "3          Britannia & Co.       Parsi Restaurant               18.934683   \n",
       "4          Town House Cafe                    Bar               18.938550   \n",
       "\n",
       "   Neighbourhood Longitude  \n",
       "0                72.837853  \n",
       "1                72.837490  \n",
       "2                72.837453  \n",
       "3                72.840183  \n",
       "4                72.833464  "
      ],
      "text/html": "<div>\n<style scoped>\n    .dataframe tbody tr th:only-of-type {\n        vertical-align: middle;\n    }\n\n    .dataframe tbody tr th {\n        vertical-align: top;\n    }\n\n    .dataframe thead th {\n        text-align: right;\n    }\n</style>\n<table border=\"1\" class=\"dataframe\">\n  <thead>\n    <tr style=\"text-align: right;\">\n      <th></th>\n      <th>Venue</th>\n      <th>Venue Latitude</th>\n      <th>Venue Longitude</th>\n      <th>Neighbourhood Name</th>\n      <th>Neighbourhood Category</th>\n      <th>Neighbourhood Latitude</th>\n      <th>Neighbourhood Longitude</th>\n    </tr>\n  </thead>\n  <tbody>\n    <tr>\n      <th>0</th>\n      <td>Nanumal Bhojraj Restaurant - Fort</td>\n      <td>18.937974</td>\n      <td>72.837663</td>\n      <td>Sher-E-Punjab</td>\n      <td>Indian Restaurant</td>\n      <td>18.937944</td>\n      <td>72.837853</td>\n    </tr>\n    <tr>\n      <th>1</th>\n      <td>Nanumal Bhojraj Restaurant - Fort</td>\n      <td>18.937974</td>\n      <td>72.837663</td>\n      <td>Dakshin Bar And Kitchen</td>\n      <td>Seafood Restaurant</td>\n      <td>18.936489</td>\n      <td>72.837490</td>\n    </tr>\n    <tr>\n      <th>2</th>\n      <td>Nanumal Bhojraj Restaurant - Fort</td>\n      <td>18.937974</td>\n      <td>72.837663</td>\n      <td>Café Universal</td>\n      <td>Irani Cafe</td>\n      <td>18.936021</td>\n      <td>72.837453</td>\n    </tr>\n    <tr>\n      <th>3</th>\n      <td>Nanumal Bhojraj Restaurant - Fort</td>\n      <td>18.937974</td>\n      <td>72.837663</td>\n      <td>Britannia &amp; Co.</td>\n      <td>Parsi Restaurant</td>\n      <td>18.934683</td>\n      <td>72.840183</td>\n    </tr>\n    <tr>\n      <th>4</th>\n      <td>Nanumal Bhojraj Restaurant - Fort</td>\n      <td>18.937974</td>\n      <td>72.837663</td>\n      <td>Town House Cafe</td>\n      <td>Bar</td>\n      <td>18.938550</td>\n      <td>72.833464</td>\n    </tr>\n  </tbody>\n</table>\n</div>"
     },
     "metadata": {},
     "execution_count": 22
    }
   ],
   "source": [
    "mumbai_venues.head()"
   ]
  },
  {
   "cell_type": "code",
   "execution_count": 23,
   "metadata": {},
   "outputs": [
    {
     "output_type": "execute_result",
     "data": {
      "text/plain": [
       "(1618, 7)"
      ]
     },
     "metadata": {},
     "execution_count": 23
    }
   ],
   "source": [
    "# Let us look at the total neighbourhood returned\n",
    "mumbai_venues.shape"
   ]
  },
  {
   "cell_type": "markdown",
   "metadata": {},
   "source": [
    "##### Group each neighbourhood by Venues, this will give the total number of Neighbourhood for each Venues"
   ]
  },
  {
   "cell_type": "code",
   "execution_count": 24,
   "metadata": {},
   "outputs": [
    {
     "output_type": "execute_result",
     "data": {
      "text/plain": [
       "                                   Venue Latitude  Venue Longitude  \\\n",
       "Venue                                                                \n",
       "Abhiruchi Restaurant                           12               12   \n",
       "Amrapali Bar And Restaurant & Bar              78               78   \n",
       "Anubhav Restaurant & Bar                       25               25   \n",
       "Aram Restaurant                                14               14   \n",
       "Army restaurant                                76               76   \n",
       "\n",
       "                                   Neighbourhood Name  Neighbourhood Category  \\\n",
       "Venue                                                                           \n",
       "Abhiruchi Restaurant                               12                      12   \n",
       "Amrapali Bar And Restaurant & Bar                  78                      78   \n",
       "Anubhav Restaurant & Bar                           25                      25   \n",
       "Aram Restaurant                                    14                      14   \n",
       "Army restaurant                                    76                      76   \n",
       "\n",
       "                                   Neighbourhood Latitude  \\\n",
       "Venue                                                       \n",
       "Abhiruchi Restaurant                                   12   \n",
       "Amrapali Bar And Restaurant & Bar                      78   \n",
       "Anubhav Restaurant & Bar                               25   \n",
       "Aram Restaurant                                        14   \n",
       "Army restaurant                                        76   \n",
       "\n",
       "                                   Neighbourhood Longitude  \n",
       "Venue                                                       \n",
       "Abhiruchi Restaurant                                    12  \n",
       "Amrapali Bar And Restaurant & Bar                       78  \n",
       "Anubhav Restaurant & Bar                                25  \n",
       "Aram Restaurant                                         14  \n",
       "Army restaurant                                         76  "
      ],
      "text/html": "<div>\n<style scoped>\n    .dataframe tbody tr th:only-of-type {\n        vertical-align: middle;\n    }\n\n    .dataframe tbody tr th {\n        vertical-align: top;\n    }\n\n    .dataframe thead th {\n        text-align: right;\n    }\n</style>\n<table border=\"1\" class=\"dataframe\">\n  <thead>\n    <tr style=\"text-align: right;\">\n      <th></th>\n      <th>Venue Latitude</th>\n      <th>Venue Longitude</th>\n      <th>Neighbourhood Name</th>\n      <th>Neighbourhood Category</th>\n      <th>Neighbourhood Latitude</th>\n      <th>Neighbourhood Longitude</th>\n    </tr>\n    <tr>\n      <th>Venue</th>\n      <th></th>\n      <th></th>\n      <th></th>\n      <th></th>\n      <th></th>\n      <th></th>\n    </tr>\n  </thead>\n  <tbody>\n    <tr>\n      <th>Abhiruchi Restaurant</th>\n      <td>12</td>\n      <td>12</td>\n      <td>12</td>\n      <td>12</td>\n      <td>12</td>\n      <td>12</td>\n    </tr>\n    <tr>\n      <th>Amrapali Bar And Restaurant &amp; Bar</th>\n      <td>78</td>\n      <td>78</td>\n      <td>78</td>\n      <td>78</td>\n      <td>78</td>\n      <td>78</td>\n    </tr>\n    <tr>\n      <th>Anubhav Restaurant &amp; Bar</th>\n      <td>25</td>\n      <td>25</td>\n      <td>25</td>\n      <td>25</td>\n      <td>25</td>\n      <td>25</td>\n    </tr>\n    <tr>\n      <th>Aram Restaurant</th>\n      <td>14</td>\n      <td>14</td>\n      <td>14</td>\n      <td>14</td>\n      <td>14</td>\n      <td>14</td>\n    </tr>\n    <tr>\n      <th>Army restaurant</th>\n      <td>76</td>\n      <td>76</td>\n      <td>76</td>\n      <td>76</td>\n      <td>76</td>\n      <td>76</td>\n    </tr>\n  </tbody>\n</table>\n</div>"
     },
     "metadata": {},
     "execution_count": 24
    }
   ],
   "source": [
    "mumbai_venues.groupby('Venue').count().head()"
   ]
  },
  {
   "cell_type": "code",
   "execution_count": 25,
   "metadata": {},
   "outputs": [
    {
     "output_type": "stream",
     "name": "stdout",
     "text": [
      "There are total of 80 unique categories\n"
     ]
    }
   ],
   "source": [
    "# Total Number of Unique Categories\n",
    "print('There are total of {} unique categories'.format(len(mumbai_venues['Neighbourhood Category'].unique())))"
   ]
  },
  {
   "cell_type": "markdown",
   "metadata": {},
   "source": [
    "### Analyze Each Neighbourhood\n",
    "\n",
    "#### Create a new df with only the Neighbourhood numbers in it and all other Neighbourhood as 0"
   ]
  },
  {
   "cell_type": "code",
   "execution_count": 26,
   "metadata": {},
   "outputs": [
    {
     "output_type": "execute_result",
     "data": {
      "text/plain": [
       "                               Venue  American Restaurant  Art Gallery  \\\n",
       "0  Nanumal Bhojraj Restaurant - Fort                    0            0   \n",
       "1  Nanumal Bhojraj Restaurant - Fort                    0            0   \n",
       "2  Nanumal Bhojraj Restaurant - Fort                    0            0   \n",
       "3  Nanumal Bhojraj Restaurant - Fort                    0            0   \n",
       "4  Nanumal Bhojraj Restaurant - Fort                    0            0   \n",
       "\n",
       "   Arts & Crafts Store  Asian Restaurant  Athletics & Sports  BBQ Joint  \\\n",
       "0                    0                 0                   0          0   \n",
       "1                    0                 0                   0          0   \n",
       "2                    0                 0                   0          0   \n",
       "3                    0                 0                   0          0   \n",
       "4                    0                 0                   0          0   \n",
       "\n",
       "   Bakery  Bank  Bar  ...  Sandwich Place  Scenic Lookout  Seafood Restaurant  \\\n",
       "0       0     0    0  ...               0               0                   0   \n",
       "1       0     0    0  ...               0               0                   1   \n",
       "2       0     0    0  ...               0               0                   0   \n",
       "3       0     0    0  ...               0               0                   0   \n",
       "4       0     0    1  ...               0               0                   0   \n",
       "\n",
       "   Smoke Shop  Steakhouse  Tea Room  Train Station  \\\n",
       "0           0           0         0              0   \n",
       "1           0           0         0              0   \n",
       "2           0           0         0              0   \n",
       "3           0           0         0              0   \n",
       "4           0           0         0              0   \n",
       "\n",
       "   Vegetarian / Vegan Restaurant  Wine Shop  Women's Store  \n",
       "0                              0          0              0  \n",
       "1                              0          0              0  \n",
       "2                              0          0              0  \n",
       "3                              0          0              0  \n",
       "4                              0          0              0  \n",
       "\n",
       "[5 rows x 81 columns]"
      ],
      "text/html": "<div>\n<style scoped>\n    .dataframe tbody tr th:only-of-type {\n        vertical-align: middle;\n    }\n\n    .dataframe tbody tr th {\n        vertical-align: top;\n    }\n\n    .dataframe thead th {\n        text-align: right;\n    }\n</style>\n<table border=\"1\" class=\"dataframe\">\n  <thead>\n    <tr style=\"text-align: right;\">\n      <th></th>\n      <th>Venue</th>\n      <th>American Restaurant</th>\n      <th>Art Gallery</th>\n      <th>Arts &amp; Crafts Store</th>\n      <th>Asian Restaurant</th>\n      <th>Athletics &amp; Sports</th>\n      <th>BBQ Joint</th>\n      <th>Bakery</th>\n      <th>Bank</th>\n      <th>Bar</th>\n      <th>...</th>\n      <th>Sandwich Place</th>\n      <th>Scenic Lookout</th>\n      <th>Seafood Restaurant</th>\n      <th>Smoke Shop</th>\n      <th>Steakhouse</th>\n      <th>Tea Room</th>\n      <th>Train Station</th>\n      <th>Vegetarian / Vegan Restaurant</th>\n      <th>Wine Shop</th>\n      <th>Women's Store</th>\n    </tr>\n  </thead>\n  <tbody>\n    <tr>\n      <th>0</th>\n      <td>Nanumal Bhojraj Restaurant - Fort</td>\n      <td>0</td>\n      <td>0</td>\n      <td>0</td>\n      <td>0</td>\n      <td>0</td>\n      <td>0</td>\n      <td>0</td>\n      <td>0</td>\n      <td>0</td>\n      <td>...</td>\n      <td>0</td>\n      <td>0</td>\n      <td>0</td>\n      <td>0</td>\n      <td>0</td>\n      <td>0</td>\n      <td>0</td>\n      <td>0</td>\n      <td>0</td>\n      <td>0</td>\n    </tr>\n    <tr>\n      <th>1</th>\n      <td>Nanumal Bhojraj Restaurant - Fort</td>\n      <td>0</td>\n      <td>0</td>\n      <td>0</td>\n      <td>0</td>\n      <td>0</td>\n      <td>0</td>\n      <td>0</td>\n      <td>0</td>\n      <td>0</td>\n      <td>...</td>\n      <td>0</td>\n      <td>0</td>\n      <td>1</td>\n      <td>0</td>\n      <td>0</td>\n      <td>0</td>\n      <td>0</td>\n      <td>0</td>\n      <td>0</td>\n      <td>0</td>\n    </tr>\n    <tr>\n      <th>2</th>\n      <td>Nanumal Bhojraj Restaurant - Fort</td>\n      <td>0</td>\n      <td>0</td>\n      <td>0</td>\n      <td>0</td>\n      <td>0</td>\n      <td>0</td>\n      <td>0</td>\n      <td>0</td>\n      <td>0</td>\n      <td>...</td>\n      <td>0</td>\n      <td>0</td>\n      <td>0</td>\n      <td>0</td>\n      <td>0</td>\n      <td>0</td>\n      <td>0</td>\n      <td>0</td>\n      <td>0</td>\n      <td>0</td>\n    </tr>\n    <tr>\n      <th>3</th>\n      <td>Nanumal Bhojraj Restaurant - Fort</td>\n      <td>0</td>\n      <td>0</td>\n      <td>0</td>\n      <td>0</td>\n      <td>0</td>\n      <td>0</td>\n      <td>0</td>\n      <td>0</td>\n      <td>0</td>\n      <td>...</td>\n      <td>0</td>\n      <td>0</td>\n      <td>0</td>\n      <td>0</td>\n      <td>0</td>\n      <td>0</td>\n      <td>0</td>\n      <td>0</td>\n      <td>0</td>\n      <td>0</td>\n    </tr>\n    <tr>\n      <th>4</th>\n      <td>Nanumal Bhojraj Restaurant - Fort</td>\n      <td>0</td>\n      <td>0</td>\n      <td>0</td>\n      <td>0</td>\n      <td>0</td>\n      <td>0</td>\n      <td>0</td>\n      <td>0</td>\n      <td>1</td>\n      <td>...</td>\n      <td>0</td>\n      <td>0</td>\n      <td>0</td>\n      <td>0</td>\n      <td>0</td>\n      <td>0</td>\n      <td>0</td>\n      <td>0</td>\n      <td>0</td>\n      <td>0</td>\n    </tr>\n  </tbody>\n</table>\n<p>5 rows × 81 columns</p>\n</div>"
     },
     "metadata": {},
     "execution_count": 26
    }
   ],
   "source": [
    "# create dummies for each venue \n",
    "mumbai_venues_onehot = pd.get_dummies(mumbai_venues[['Neighbourhood Category']], prefix = '', prefix_sep = '')\n",
    "\n",
    "# Add venues column\n",
    "mumbai_venues_onehot['Venue'] = mumbai_venues['Venue']\n",
    "\n",
    "# Move the venues column to first index\n",
    "mumbai_venues_onehot = mumbai_venues_onehot[[mumbai_venues_onehot.columns[-1]] + list(mumbai_venues_onehot.columns[:-1])]\n",
    "\n",
    "mumbai_venues_onehot.head()"
   ]
  },
  {
   "cell_type": "markdown",
   "metadata": {},
   "source": [
    "#### Next, let's group rows by neighborhood and by taking the mean of the frequency of occurrence of each category"
   ]
  },
  {
   "cell_type": "code",
   "execution_count": 27,
   "metadata": {},
   "outputs": [
    {
     "output_type": "execute_result",
     "data": {
      "text/plain": [
       "                               Venue  American Restaurant  Art Gallery  \\\n",
       "0               Abhiruchi Restaurant             0.083333     0.000000   \n",
       "1  Amrapali Bar And Restaurant & Bar             0.000000     0.025641   \n",
       "2           Anubhav Restaurant & Bar             0.000000     0.000000   \n",
       "3                    Aram Restaurant             0.000000     0.000000   \n",
       "4                    Army restaurant             0.000000     0.000000   \n",
       "\n",
       "   Arts & Crafts Store  Asian Restaurant  Athletics & Sports  BBQ Joint  \\\n",
       "0             0.000000          0.000000            0.000000   0.000000   \n",
       "1             0.012821          0.012821            0.000000   0.012821   \n",
       "2             0.000000          0.000000            0.000000   0.000000   \n",
       "3             0.000000          0.000000            0.071429   0.000000   \n",
       "4             0.013158          0.013158            0.000000   0.000000   \n",
       "\n",
       "     Bakery      Bank       Bar  ...  Sandwich Place  Scenic Lookout  \\\n",
       "0  0.000000  0.000000  0.000000  ...        0.000000             0.0   \n",
       "1  0.012821  0.000000  0.012821  ...        0.000000             0.0   \n",
       "2  0.000000  0.000000  0.040000  ...        0.000000             0.0   \n",
       "3  0.000000  0.000000  0.142857  ...        0.071429             0.0   \n",
       "4  0.026316  0.013158  0.013158  ...        0.013158             0.0   \n",
       "\n",
       "   Seafood Restaurant  Smoke Shop  Steakhouse  Tea Room  Train Station  \\\n",
       "0            0.000000    0.000000    0.000000  0.000000       0.000000   \n",
       "1            0.038462    0.012821    0.012821  0.012821       0.000000   \n",
       "2            0.080000    0.000000    0.000000  0.000000       0.040000   \n",
       "3            0.071429    0.000000    0.000000  0.000000       0.071429   \n",
       "4            0.026316    0.013158    0.013158  0.013158       0.013158   \n",
       "\n",
       "   Vegetarian / Vegan Restaurant  Wine Shop  Women's Store  \n",
       "0                       0.000000   0.083333       0.000000  \n",
       "1                       0.025641   0.000000       0.012821  \n",
       "2                       0.000000   0.000000       0.000000  \n",
       "3                       0.000000   0.000000       0.000000  \n",
       "4                       0.026316   0.000000       0.000000  \n",
       "\n",
       "[5 rows x 81 columns]"
      ],
      "text/html": "<div>\n<style scoped>\n    .dataframe tbody tr th:only-of-type {\n        vertical-align: middle;\n    }\n\n    .dataframe tbody tr th {\n        vertical-align: top;\n    }\n\n    .dataframe thead th {\n        text-align: right;\n    }\n</style>\n<table border=\"1\" class=\"dataframe\">\n  <thead>\n    <tr style=\"text-align: right;\">\n      <th></th>\n      <th>Venue</th>\n      <th>American Restaurant</th>\n      <th>Art Gallery</th>\n      <th>Arts &amp; Crafts Store</th>\n      <th>Asian Restaurant</th>\n      <th>Athletics &amp; Sports</th>\n      <th>BBQ Joint</th>\n      <th>Bakery</th>\n      <th>Bank</th>\n      <th>Bar</th>\n      <th>...</th>\n      <th>Sandwich Place</th>\n      <th>Scenic Lookout</th>\n      <th>Seafood Restaurant</th>\n      <th>Smoke Shop</th>\n      <th>Steakhouse</th>\n      <th>Tea Room</th>\n      <th>Train Station</th>\n      <th>Vegetarian / Vegan Restaurant</th>\n      <th>Wine Shop</th>\n      <th>Women's Store</th>\n    </tr>\n  </thead>\n  <tbody>\n    <tr>\n      <th>0</th>\n      <td>Abhiruchi Restaurant</td>\n      <td>0.083333</td>\n      <td>0.000000</td>\n      <td>0.000000</td>\n      <td>0.000000</td>\n      <td>0.000000</td>\n      <td>0.000000</td>\n      <td>0.000000</td>\n      <td>0.000000</td>\n      <td>0.000000</td>\n      <td>...</td>\n      <td>0.000000</td>\n      <td>0.0</td>\n      <td>0.000000</td>\n      <td>0.000000</td>\n      <td>0.000000</td>\n      <td>0.000000</td>\n      <td>0.000000</td>\n      <td>0.000000</td>\n      <td>0.083333</td>\n      <td>0.000000</td>\n    </tr>\n    <tr>\n      <th>1</th>\n      <td>Amrapali Bar And Restaurant &amp; Bar</td>\n      <td>0.000000</td>\n      <td>0.025641</td>\n      <td>0.012821</td>\n      <td>0.012821</td>\n      <td>0.000000</td>\n      <td>0.012821</td>\n      <td>0.012821</td>\n      <td>0.000000</td>\n      <td>0.012821</td>\n      <td>...</td>\n      <td>0.000000</td>\n      <td>0.0</td>\n      <td>0.038462</td>\n      <td>0.012821</td>\n      <td>0.012821</td>\n      <td>0.012821</td>\n      <td>0.000000</td>\n      <td>0.025641</td>\n      <td>0.000000</td>\n      <td>0.012821</td>\n    </tr>\n    <tr>\n      <th>2</th>\n      <td>Anubhav Restaurant &amp; Bar</td>\n      <td>0.000000</td>\n      <td>0.000000</td>\n      <td>0.000000</td>\n      <td>0.000000</td>\n      <td>0.000000</td>\n      <td>0.000000</td>\n      <td>0.000000</td>\n      <td>0.000000</td>\n      <td>0.040000</td>\n      <td>...</td>\n      <td>0.000000</td>\n      <td>0.0</td>\n      <td>0.080000</td>\n      <td>0.000000</td>\n      <td>0.000000</td>\n      <td>0.000000</td>\n      <td>0.040000</td>\n      <td>0.000000</td>\n      <td>0.000000</td>\n      <td>0.000000</td>\n    </tr>\n    <tr>\n      <th>3</th>\n      <td>Aram Restaurant</td>\n      <td>0.000000</td>\n      <td>0.000000</td>\n      <td>0.000000</td>\n      <td>0.000000</td>\n      <td>0.071429</td>\n      <td>0.000000</td>\n      <td>0.000000</td>\n      <td>0.000000</td>\n      <td>0.142857</td>\n      <td>...</td>\n      <td>0.071429</td>\n      <td>0.0</td>\n      <td>0.071429</td>\n      <td>0.000000</td>\n      <td>0.000000</td>\n      <td>0.000000</td>\n      <td>0.071429</td>\n      <td>0.000000</td>\n      <td>0.000000</td>\n      <td>0.000000</td>\n    </tr>\n    <tr>\n      <th>4</th>\n      <td>Army restaurant</td>\n      <td>0.000000</td>\n      <td>0.000000</td>\n      <td>0.013158</td>\n      <td>0.013158</td>\n      <td>0.000000</td>\n      <td>0.000000</td>\n      <td>0.026316</td>\n      <td>0.013158</td>\n      <td>0.013158</td>\n      <td>...</td>\n      <td>0.013158</td>\n      <td>0.0</td>\n      <td>0.026316</td>\n      <td>0.013158</td>\n      <td>0.013158</td>\n      <td>0.013158</td>\n      <td>0.013158</td>\n      <td>0.026316</td>\n      <td>0.000000</td>\n      <td>0.000000</td>\n    </tr>\n  </tbody>\n</table>\n<p>5 rows × 81 columns</p>\n</div>"
     },
     "metadata": {},
     "execution_count": 27
    }
   ],
   "source": [
    "mumbai_grpd = mumbai_venues_onehot.groupby('Venue').mean().reset_index()\n",
    "\n",
    "mumbai_grpd.head()"
   ]
  },
  {
   "cell_type": "markdown",
   "metadata": {},
   "source": [
    "### Cluster Neighbourhoods"
   ]
  },
  {
   "cell_type": "code",
   "execution_count": 28,
   "metadata": {},
   "outputs": [],
   "source": [
    "# Import the libraries\n",
    "\n",
    "from sklearn.cluster import KMeans\n",
    "import matplotlib.cm as cm\n",
    "import matplotlib.colors as colors"
   ]
  },
  {
   "cell_type": "markdown",
   "metadata": {},
   "source": [
    "#### Choosing the Best Number of Cluster\n",
    "\n",
    "##### The right number of cluster is neccessary to build a clustering model, we will use the elbow method to determine the within cluster sum of square using the inertia parameter of the KMeans algorithm"
   ]
  },
  {
   "cell_type": "code",
   "execution_count": 29,
   "metadata": {},
   "outputs": [
    {
     "output_type": "display_data",
     "data": {
      "text/plain": "<Figure size 432x288 with 1 Axes>",
      "image/svg+xml": "<?xml version=\"1.0\" encoding=\"utf-8\" standalone=\"no\"?>\r\n<!DOCTYPE svg PUBLIC \"-//W3C//DTD SVG 1.1//EN\"\r\n  \"http://www.w3.org/Graphics/SVG/1.1/DTD/svg11.dtd\">\r\n<!-- Created with matplotlib (https://matplotlib.org/) -->\r\n<svg height=\"262.19625pt\" version=\"1.1\" viewBox=\"0 0 385.78125 262.19625\" width=\"385.78125pt\" xmlns=\"http://www.w3.org/2000/svg\" xmlns:xlink=\"http://www.w3.org/1999/xlink\">\r\n <metadata>\r\n  <rdf:RDF xmlns:cc=\"http://creativecommons.org/ns#\" xmlns:dc=\"http://purl.org/dc/elements/1.1/\" xmlns:rdf=\"http://www.w3.org/1999/02/22-rdf-syntax-ns#\">\r\n   <cc:Work>\r\n    <dc:type rdf:resource=\"http://purl.org/dc/dcmitype/StillImage\"/>\r\n    <dc:date>2020-11-08T10:21:50.485401</dc:date>\r\n    <dc:format>image/svg+xml</dc:format>\r\n    <dc:creator>\r\n     <cc:Agent>\r\n      <dc:title>Matplotlib v3.3.1, https://matplotlib.org/</dc:title>\r\n     </cc:Agent>\r\n    </dc:creator>\r\n   </cc:Work>\r\n  </rdf:RDF>\r\n </metadata>\r\n <defs>\r\n  <style type=\"text/css\">*{stroke-linecap:butt;stroke-linejoin:round;}</style>\r\n </defs>\r\n <g id=\"figure_1\">\r\n  <g id=\"patch_1\">\r\n   <path d=\"M 0 262.19625 \r\nL 385.78125 262.19625 \r\nL 385.78125 0 \r\nL 0 0 \r\nz\r\n\" style=\"fill:none;\"/>\r\n  </g>\r\n  <g id=\"axes_1\">\r\n   <g id=\"patch_2\">\r\n    <path d=\"M 43.78125 224.64 \r\nL 378.58125 224.64 \r\nL 378.58125 7.2 \r\nL 43.78125 7.2 \r\nz\r\n\" style=\"fill:#ffffff;\"/>\r\n   </g>\r\n   <g id=\"matplotlib.axis_1\">\r\n    <g id=\"xtick_1\">\r\n     <g id=\"line2d_1\">\r\n      <defs>\r\n       <path d=\"M 0 0 \r\nL 0 3.5 \r\n\" id=\"m858038961f\" style=\"stroke:#000000;stroke-width:0.8;\"/>\r\n      </defs>\r\n      <g>\r\n       <use style=\"stroke:#000000;stroke-width:0.8;\" x=\"92.817614\" xlink:href=\"#m858038961f\" y=\"224.64\"/>\r\n      </g>\r\n     </g>\r\n     <g id=\"text_1\">\r\n      <!-- 2 -->\r\n      <g transform=\"translate(89.636364 239.238437)scale(0.1 -0.1)\">\r\n       <defs>\r\n        <path d=\"M 19.1875 8.296875 \r\nL 53.609375 8.296875 \r\nL 53.609375 0 \r\nL 7.328125 0 \r\nL 7.328125 8.296875 \r\nQ 12.9375 14.109375 22.625 23.890625 \r\nQ 32.328125 33.6875 34.8125 36.53125 \r\nQ 39.546875 41.84375 41.421875 45.53125 \r\nQ 43.3125 49.21875 43.3125 52.78125 \r\nQ 43.3125 58.59375 39.234375 62.25 \r\nQ 35.15625 65.921875 28.609375 65.921875 \r\nQ 23.96875 65.921875 18.8125 64.3125 \r\nQ 13.671875 62.703125 7.8125 59.421875 \r\nL 7.8125 69.390625 \r\nQ 13.765625 71.78125 18.9375 73 \r\nQ 24.125 74.21875 28.421875 74.21875 \r\nQ 39.75 74.21875 46.484375 68.546875 \r\nQ 53.21875 62.890625 53.21875 53.421875 \r\nQ 53.21875 48.921875 51.53125 44.890625 \r\nQ 49.859375 40.875 45.40625 35.40625 \r\nQ 44.1875 33.984375 37.640625 27.21875 \r\nQ 31.109375 20.453125 19.1875 8.296875 \r\nz\r\n\" id=\"DejaVuSans-50\"/>\r\n       </defs>\r\n       <use xlink:href=\"#DejaVuSans-50\"/>\r\n      </g>\r\n     </g>\r\n    </g>\r\n    <g id=\"xtick_2\">\r\n     <g id=\"line2d_2\">\r\n      <g>\r\n       <use style=\"stroke:#000000;stroke-width:0.8;\" x=\"160.453977\" xlink:href=\"#m858038961f\" y=\"224.64\"/>\r\n      </g>\r\n     </g>\r\n     <g id=\"text_2\">\r\n      <!-- 4 -->\r\n      <g transform=\"translate(157.272727 239.238437)scale(0.1 -0.1)\">\r\n       <defs>\r\n        <path d=\"M 37.796875 64.3125 \r\nL 12.890625 25.390625 \r\nL 37.796875 25.390625 \r\nz\r\nM 35.203125 72.90625 \r\nL 47.609375 72.90625 \r\nL 47.609375 25.390625 \r\nL 58.015625 25.390625 \r\nL 58.015625 17.1875 \r\nL 47.609375 17.1875 \r\nL 47.609375 0 \r\nL 37.796875 0 \r\nL 37.796875 17.1875 \r\nL 4.890625 17.1875 \r\nL 4.890625 26.703125 \r\nz\r\n\" id=\"DejaVuSans-52\"/>\r\n       </defs>\r\n       <use xlink:href=\"#DejaVuSans-52\"/>\r\n      </g>\r\n     </g>\r\n    </g>\r\n    <g id=\"xtick_3\">\r\n     <g id=\"line2d_3\">\r\n      <g>\r\n       <use style=\"stroke:#000000;stroke-width:0.8;\" x=\"228.090341\" xlink:href=\"#m858038961f\" y=\"224.64\"/>\r\n      </g>\r\n     </g>\r\n     <g id=\"text_3\">\r\n      <!-- 6 -->\r\n      <g transform=\"translate(224.909091 239.238437)scale(0.1 -0.1)\">\r\n       <defs>\r\n        <path d=\"M 33.015625 40.375 \r\nQ 26.375 40.375 22.484375 35.828125 \r\nQ 18.609375 31.296875 18.609375 23.390625 \r\nQ 18.609375 15.53125 22.484375 10.953125 \r\nQ 26.375 6.390625 33.015625 6.390625 \r\nQ 39.65625 6.390625 43.53125 10.953125 \r\nQ 47.40625 15.53125 47.40625 23.390625 \r\nQ 47.40625 31.296875 43.53125 35.828125 \r\nQ 39.65625 40.375 33.015625 40.375 \r\nz\r\nM 52.59375 71.296875 \r\nL 52.59375 62.3125 \r\nQ 48.875 64.0625 45.09375 64.984375 \r\nQ 41.3125 65.921875 37.59375 65.921875 \r\nQ 27.828125 65.921875 22.671875 59.328125 \r\nQ 17.53125 52.734375 16.796875 39.40625 \r\nQ 19.671875 43.65625 24.015625 45.921875 \r\nQ 28.375 48.1875 33.59375 48.1875 \r\nQ 44.578125 48.1875 50.953125 41.515625 \r\nQ 57.328125 34.859375 57.328125 23.390625 \r\nQ 57.328125 12.15625 50.6875 5.359375 \r\nQ 44.046875 -1.421875 33.015625 -1.421875 \r\nQ 20.359375 -1.421875 13.671875 8.265625 \r\nQ 6.984375 17.96875 6.984375 36.375 \r\nQ 6.984375 53.65625 15.1875 63.9375 \r\nQ 23.390625 74.21875 37.203125 74.21875 \r\nQ 40.921875 74.21875 44.703125 73.484375 \r\nQ 48.484375 72.75 52.59375 71.296875 \r\nz\r\n\" id=\"DejaVuSans-54\"/>\r\n       </defs>\r\n       <use xlink:href=\"#DejaVuSans-54\"/>\r\n      </g>\r\n     </g>\r\n    </g>\r\n    <g id=\"xtick_4\">\r\n     <g id=\"line2d_4\">\r\n      <g>\r\n       <use style=\"stroke:#000000;stroke-width:0.8;\" x=\"295.726705\" xlink:href=\"#m858038961f\" y=\"224.64\"/>\r\n      </g>\r\n     </g>\r\n     <g id=\"text_4\">\r\n      <!-- 8 -->\r\n      <g transform=\"translate(292.545455 239.238437)scale(0.1 -0.1)\">\r\n       <defs>\r\n        <path d=\"M 31.78125 34.625 \r\nQ 24.75 34.625 20.71875 30.859375 \r\nQ 16.703125 27.09375 16.703125 20.515625 \r\nQ 16.703125 13.921875 20.71875 10.15625 \r\nQ 24.75 6.390625 31.78125 6.390625 \r\nQ 38.8125 6.390625 42.859375 10.171875 \r\nQ 46.921875 13.96875 46.921875 20.515625 \r\nQ 46.921875 27.09375 42.890625 30.859375 \r\nQ 38.875 34.625 31.78125 34.625 \r\nz\r\nM 21.921875 38.8125 \r\nQ 15.578125 40.375 12.03125 44.71875 \r\nQ 8.5 49.078125 8.5 55.328125 \r\nQ 8.5 64.0625 14.71875 69.140625 \r\nQ 20.953125 74.21875 31.78125 74.21875 \r\nQ 42.671875 74.21875 48.875 69.140625 \r\nQ 55.078125 64.0625 55.078125 55.328125 \r\nQ 55.078125 49.078125 51.53125 44.71875 \r\nQ 48 40.375 41.703125 38.8125 \r\nQ 48.828125 37.15625 52.796875 32.3125 \r\nQ 56.78125 27.484375 56.78125 20.515625 \r\nQ 56.78125 9.90625 50.3125 4.234375 \r\nQ 43.84375 -1.421875 31.78125 -1.421875 \r\nQ 19.734375 -1.421875 13.25 4.234375 \r\nQ 6.78125 9.90625 6.78125 20.515625 \r\nQ 6.78125 27.484375 10.78125 32.3125 \r\nQ 14.796875 37.15625 21.921875 38.8125 \r\nz\r\nM 18.3125 54.390625 \r\nQ 18.3125 48.734375 21.84375 45.5625 \r\nQ 25.390625 42.390625 31.78125 42.390625 \r\nQ 38.140625 42.390625 41.71875 45.5625 \r\nQ 45.3125 48.734375 45.3125 54.390625 \r\nQ 45.3125 60.0625 41.71875 63.234375 \r\nQ 38.140625 66.40625 31.78125 66.40625 \r\nQ 25.390625 66.40625 21.84375 63.234375 \r\nQ 18.3125 60.0625 18.3125 54.390625 \r\nz\r\n\" id=\"DejaVuSans-56\"/>\r\n       </defs>\r\n       <use xlink:href=\"#DejaVuSans-56\"/>\r\n      </g>\r\n     </g>\r\n    </g>\r\n    <g id=\"xtick_5\">\r\n     <g id=\"line2d_5\">\r\n      <g>\r\n       <use style=\"stroke:#000000;stroke-width:0.8;\" x=\"363.363068\" xlink:href=\"#m858038961f\" y=\"224.64\"/>\r\n      </g>\r\n     </g>\r\n     <g id=\"text_5\">\r\n      <!-- 10 -->\r\n      <g transform=\"translate(357.000568 239.238437)scale(0.1 -0.1)\">\r\n       <defs>\r\n        <path d=\"M 12.40625 8.296875 \r\nL 28.515625 8.296875 \r\nL 28.515625 63.921875 \r\nL 10.984375 60.40625 \r\nL 10.984375 69.390625 \r\nL 28.421875 72.90625 \r\nL 38.28125 72.90625 \r\nL 38.28125 8.296875 \r\nL 54.390625 8.296875 \r\nL 54.390625 0 \r\nL 12.40625 0 \r\nz\r\n\" id=\"DejaVuSans-49\"/>\r\n        <path d=\"M 31.78125 66.40625 \r\nQ 24.171875 66.40625 20.328125 58.90625 \r\nQ 16.5 51.421875 16.5 36.375 \r\nQ 16.5 21.390625 20.328125 13.890625 \r\nQ 24.171875 6.390625 31.78125 6.390625 \r\nQ 39.453125 6.390625 43.28125 13.890625 \r\nQ 47.125 21.390625 47.125 36.375 \r\nQ 47.125 51.421875 43.28125 58.90625 \r\nQ 39.453125 66.40625 31.78125 66.40625 \r\nz\r\nM 31.78125 74.21875 \r\nQ 44.046875 74.21875 50.515625 64.515625 \r\nQ 56.984375 54.828125 56.984375 36.375 \r\nQ 56.984375 17.96875 50.515625 8.265625 \r\nQ 44.046875 -1.421875 31.78125 -1.421875 \r\nQ 19.53125 -1.421875 13.0625 8.265625 \r\nQ 6.59375 17.96875 6.59375 36.375 \r\nQ 6.59375 54.828125 13.0625 64.515625 \r\nQ 19.53125 74.21875 31.78125 74.21875 \r\nz\r\n\" id=\"DejaVuSans-48\"/>\r\n       </defs>\r\n       <use xlink:href=\"#DejaVuSans-49\"/>\r\n       <use x=\"63.623047\" xlink:href=\"#DejaVuSans-48\"/>\r\n      </g>\r\n     </g>\r\n    </g>\r\n    <g id=\"text_6\">\r\n     <!-- Number of CLuster -->\r\n     <g transform=\"translate(164.042188 252.916562)scale(0.1 -0.1)\">\r\n      <defs>\r\n       <path d=\"M 9.8125 72.90625 \r\nL 23.09375 72.90625 \r\nL 55.421875 11.921875 \r\nL 55.421875 72.90625 \r\nL 64.984375 72.90625 \r\nL 64.984375 0 \r\nL 51.703125 0 \r\nL 19.390625 60.984375 \r\nL 19.390625 0 \r\nL 9.8125 0 \r\nz\r\n\" id=\"DejaVuSans-78\"/>\r\n       <path d=\"M 8.5 21.578125 \r\nL 8.5 54.6875 \r\nL 17.484375 54.6875 \r\nL 17.484375 21.921875 \r\nQ 17.484375 14.15625 20.5 10.265625 \r\nQ 23.53125 6.390625 29.59375 6.390625 \r\nQ 36.859375 6.390625 41.078125 11.03125 \r\nQ 45.3125 15.671875 45.3125 23.6875 \r\nL 45.3125 54.6875 \r\nL 54.296875 54.6875 \r\nL 54.296875 0 \r\nL 45.3125 0 \r\nL 45.3125 8.40625 \r\nQ 42.046875 3.421875 37.71875 1 \r\nQ 33.40625 -1.421875 27.6875 -1.421875 \r\nQ 18.265625 -1.421875 13.375 4.4375 \r\nQ 8.5 10.296875 8.5 21.578125 \r\nz\r\nM 31.109375 56 \r\nz\r\n\" id=\"DejaVuSans-117\"/>\r\n       <path d=\"M 52 44.1875 \r\nQ 55.375 50.25 60.0625 53.125 \r\nQ 64.75 56 71.09375 56 \r\nQ 79.640625 56 84.28125 50.015625 \r\nQ 88.921875 44.046875 88.921875 33.015625 \r\nL 88.921875 0 \r\nL 79.890625 0 \r\nL 79.890625 32.71875 \r\nQ 79.890625 40.578125 77.09375 44.375 \r\nQ 74.3125 48.1875 68.609375 48.1875 \r\nQ 61.625 48.1875 57.5625 43.546875 \r\nQ 53.515625 38.921875 53.515625 30.90625 \r\nL 53.515625 0 \r\nL 44.484375 0 \r\nL 44.484375 32.71875 \r\nQ 44.484375 40.625 41.703125 44.40625 \r\nQ 38.921875 48.1875 33.109375 48.1875 \r\nQ 26.21875 48.1875 22.15625 43.53125 \r\nQ 18.109375 38.875 18.109375 30.90625 \r\nL 18.109375 0 \r\nL 9.078125 0 \r\nL 9.078125 54.6875 \r\nL 18.109375 54.6875 \r\nL 18.109375 46.1875 \r\nQ 21.1875 51.21875 25.484375 53.609375 \r\nQ 29.78125 56 35.6875 56 \r\nQ 41.65625 56 45.828125 52.96875 \r\nQ 50 49.953125 52 44.1875 \r\nz\r\n\" id=\"DejaVuSans-109\"/>\r\n       <path d=\"M 48.6875 27.296875 \r\nQ 48.6875 37.203125 44.609375 42.84375 \r\nQ 40.53125 48.484375 33.40625 48.484375 \r\nQ 26.265625 48.484375 22.1875 42.84375 \r\nQ 18.109375 37.203125 18.109375 27.296875 \r\nQ 18.109375 17.390625 22.1875 11.75 \r\nQ 26.265625 6.109375 33.40625 6.109375 \r\nQ 40.53125 6.109375 44.609375 11.75 \r\nQ 48.6875 17.390625 48.6875 27.296875 \r\nz\r\nM 18.109375 46.390625 \r\nQ 20.953125 51.265625 25.265625 53.625 \r\nQ 29.59375 56 35.59375 56 \r\nQ 45.5625 56 51.78125 48.09375 \r\nQ 58.015625 40.1875 58.015625 27.296875 \r\nQ 58.015625 14.40625 51.78125 6.484375 \r\nQ 45.5625 -1.421875 35.59375 -1.421875 \r\nQ 29.59375 -1.421875 25.265625 0.953125 \r\nQ 20.953125 3.328125 18.109375 8.203125 \r\nL 18.109375 0 \r\nL 9.078125 0 \r\nL 9.078125 75.984375 \r\nL 18.109375 75.984375 \r\nz\r\n\" id=\"DejaVuSans-98\"/>\r\n       <path d=\"M 56.203125 29.59375 \r\nL 56.203125 25.203125 \r\nL 14.890625 25.203125 \r\nQ 15.484375 15.921875 20.484375 11.0625 \r\nQ 25.484375 6.203125 34.421875 6.203125 \r\nQ 39.59375 6.203125 44.453125 7.46875 \r\nQ 49.3125 8.734375 54.109375 11.28125 \r\nL 54.109375 2.78125 \r\nQ 49.265625 0.734375 44.1875 -0.34375 \r\nQ 39.109375 -1.421875 33.890625 -1.421875 \r\nQ 20.796875 -1.421875 13.15625 6.1875 \r\nQ 5.515625 13.8125 5.515625 26.8125 \r\nQ 5.515625 40.234375 12.765625 48.109375 \r\nQ 20.015625 56 32.328125 56 \r\nQ 43.359375 56 49.78125 48.890625 \r\nQ 56.203125 41.796875 56.203125 29.59375 \r\nz\r\nM 47.21875 32.234375 \r\nQ 47.125 39.59375 43.09375 43.984375 \r\nQ 39.0625 48.390625 32.421875 48.390625 \r\nQ 24.90625 48.390625 20.390625 44.140625 \r\nQ 15.875 39.890625 15.1875 32.171875 \r\nz\r\n\" id=\"DejaVuSans-101\"/>\r\n       <path d=\"M 41.109375 46.296875 \r\nQ 39.59375 47.171875 37.8125 47.578125 \r\nQ 36.03125 48 33.890625 48 \r\nQ 26.265625 48 22.1875 43.046875 \r\nQ 18.109375 38.09375 18.109375 28.8125 \r\nL 18.109375 0 \r\nL 9.078125 0 \r\nL 9.078125 54.6875 \r\nL 18.109375 54.6875 \r\nL 18.109375 46.1875 \r\nQ 20.953125 51.171875 25.484375 53.578125 \r\nQ 30.03125 56 36.53125 56 \r\nQ 37.453125 56 38.578125 55.875 \r\nQ 39.703125 55.765625 41.0625 55.515625 \r\nz\r\n\" id=\"DejaVuSans-114\"/>\r\n       <path id=\"DejaVuSans-32\"/>\r\n       <path d=\"M 30.609375 48.390625 \r\nQ 23.390625 48.390625 19.1875 42.75 \r\nQ 14.984375 37.109375 14.984375 27.296875 \r\nQ 14.984375 17.484375 19.15625 11.84375 \r\nQ 23.34375 6.203125 30.609375 6.203125 \r\nQ 37.796875 6.203125 41.984375 11.859375 \r\nQ 46.1875 17.53125 46.1875 27.296875 \r\nQ 46.1875 37.015625 41.984375 42.703125 \r\nQ 37.796875 48.390625 30.609375 48.390625 \r\nz\r\nM 30.609375 56 \r\nQ 42.328125 56 49.015625 48.375 \r\nQ 55.71875 40.765625 55.71875 27.296875 \r\nQ 55.71875 13.875 49.015625 6.21875 \r\nQ 42.328125 -1.421875 30.609375 -1.421875 \r\nQ 18.84375 -1.421875 12.171875 6.21875 \r\nQ 5.515625 13.875 5.515625 27.296875 \r\nQ 5.515625 40.765625 12.171875 48.375 \r\nQ 18.84375 56 30.609375 56 \r\nz\r\n\" id=\"DejaVuSans-111\"/>\r\n       <path d=\"M 37.109375 75.984375 \r\nL 37.109375 68.5 \r\nL 28.515625 68.5 \r\nQ 23.6875 68.5 21.796875 66.546875 \r\nQ 19.921875 64.59375 19.921875 59.515625 \r\nL 19.921875 54.6875 \r\nL 34.71875 54.6875 \r\nL 34.71875 47.703125 \r\nL 19.921875 47.703125 \r\nL 19.921875 0 \r\nL 10.890625 0 \r\nL 10.890625 47.703125 \r\nL 2.296875 47.703125 \r\nL 2.296875 54.6875 \r\nL 10.890625 54.6875 \r\nL 10.890625 58.5 \r\nQ 10.890625 67.625 15.140625 71.796875 \r\nQ 19.390625 75.984375 28.609375 75.984375 \r\nz\r\n\" id=\"DejaVuSans-102\"/>\r\n       <path d=\"M 64.40625 67.28125 \r\nL 64.40625 56.890625 \r\nQ 59.421875 61.53125 53.78125 63.8125 \r\nQ 48.140625 66.109375 41.796875 66.109375 \r\nQ 29.296875 66.109375 22.65625 58.46875 \r\nQ 16.015625 50.828125 16.015625 36.375 \r\nQ 16.015625 21.96875 22.65625 14.328125 \r\nQ 29.296875 6.6875 41.796875 6.6875 \r\nQ 48.140625 6.6875 53.78125 8.984375 \r\nQ 59.421875 11.28125 64.40625 15.921875 \r\nL 64.40625 5.609375 \r\nQ 59.234375 2.09375 53.4375 0.328125 \r\nQ 47.65625 -1.421875 41.21875 -1.421875 \r\nQ 24.65625 -1.421875 15.125 8.703125 \r\nQ 5.609375 18.84375 5.609375 36.375 \r\nQ 5.609375 53.953125 15.125 64.078125 \r\nQ 24.65625 74.21875 41.21875 74.21875 \r\nQ 47.75 74.21875 53.53125 72.484375 \r\nQ 59.328125 70.75 64.40625 67.28125 \r\nz\r\n\" id=\"DejaVuSans-67\"/>\r\n       <path d=\"M 9.8125 72.90625 \r\nL 19.671875 72.90625 \r\nL 19.671875 8.296875 \r\nL 55.171875 8.296875 \r\nL 55.171875 0 \r\nL 9.8125 0 \r\nz\r\n\" id=\"DejaVuSans-76\"/>\r\n       <path d=\"M 44.28125 53.078125 \r\nL 44.28125 44.578125 \r\nQ 40.484375 46.53125 36.375 47.5 \r\nQ 32.28125 48.484375 27.875 48.484375 \r\nQ 21.1875 48.484375 17.84375 46.4375 \r\nQ 14.5 44.390625 14.5 40.28125 \r\nQ 14.5 37.15625 16.890625 35.375 \r\nQ 19.28125 33.59375 26.515625 31.984375 \r\nL 29.59375 31.296875 \r\nQ 39.15625 29.25 43.1875 25.515625 \r\nQ 47.21875 21.78125 47.21875 15.09375 \r\nQ 47.21875 7.46875 41.1875 3.015625 \r\nQ 35.15625 -1.421875 24.609375 -1.421875 \r\nQ 20.21875 -1.421875 15.453125 -0.5625 \r\nQ 10.6875 0.296875 5.421875 2 \r\nL 5.421875 11.28125 \r\nQ 10.40625 8.6875 15.234375 7.390625 \r\nQ 20.0625 6.109375 24.8125 6.109375 \r\nQ 31.15625 6.109375 34.5625 8.28125 \r\nQ 37.984375 10.453125 37.984375 14.40625 \r\nQ 37.984375 18.0625 35.515625 20.015625 \r\nQ 33.0625 21.96875 24.703125 23.78125 \r\nL 21.578125 24.515625 \r\nQ 13.234375 26.265625 9.515625 29.90625 \r\nQ 5.8125 33.546875 5.8125 39.890625 \r\nQ 5.8125 47.609375 11.28125 51.796875 \r\nQ 16.75 56 26.8125 56 \r\nQ 31.78125 56 36.171875 55.265625 \r\nQ 40.578125 54.546875 44.28125 53.078125 \r\nz\r\n\" id=\"DejaVuSans-115\"/>\r\n       <path d=\"M 18.3125 70.21875 \r\nL 18.3125 54.6875 \r\nL 36.8125 54.6875 \r\nL 36.8125 47.703125 \r\nL 18.3125 47.703125 \r\nL 18.3125 18.015625 \r\nQ 18.3125 11.328125 20.140625 9.421875 \r\nQ 21.96875 7.515625 27.59375 7.515625 \r\nL 36.8125 7.515625 \r\nL 36.8125 0 \r\nL 27.59375 0 \r\nQ 17.1875 0 13.234375 3.875 \r\nQ 9.28125 7.765625 9.28125 18.015625 \r\nL 9.28125 47.703125 \r\nL 2.6875 47.703125 \r\nL 2.6875 54.6875 \r\nL 9.28125 54.6875 \r\nL 9.28125 70.21875 \r\nz\r\n\" id=\"DejaVuSans-116\"/>\r\n      </defs>\r\n      <use xlink:href=\"#DejaVuSans-78\"/>\r\n      <use x=\"74.804688\" xlink:href=\"#DejaVuSans-117\"/>\r\n      <use x=\"138.183594\" xlink:href=\"#DejaVuSans-109\"/>\r\n      <use x=\"235.595703\" xlink:href=\"#DejaVuSans-98\"/>\r\n      <use x=\"299.072266\" xlink:href=\"#DejaVuSans-101\"/>\r\n      <use x=\"360.595703\" xlink:href=\"#DejaVuSans-114\"/>\r\n      <use x=\"401.708984\" xlink:href=\"#DejaVuSans-32\"/>\r\n      <use x=\"433.496094\" xlink:href=\"#DejaVuSans-111\"/>\r\n      <use x=\"494.677734\" xlink:href=\"#DejaVuSans-102\"/>\r\n      <use x=\"529.882812\" xlink:href=\"#DejaVuSans-32\"/>\r\n      <use x=\"561.669922\" xlink:href=\"#DejaVuSans-67\"/>\r\n      <use x=\"631.494141\" xlink:href=\"#DejaVuSans-76\"/>\r\n      <use x=\"685.457031\" xlink:href=\"#DejaVuSans-117\"/>\r\n      <use x=\"748.835938\" xlink:href=\"#DejaVuSans-115\"/>\r\n      <use x=\"800.935547\" xlink:href=\"#DejaVuSans-116\"/>\r\n      <use x=\"840.144531\" xlink:href=\"#DejaVuSans-101\"/>\r\n      <use x=\"901.667969\" xlink:href=\"#DejaVuSans-114\"/>\r\n     </g>\r\n    </g>\r\n   </g>\r\n   <g id=\"matplotlib.axis_2\">\r\n    <g id=\"ytick_1\">\r\n     <g id=\"line2d_6\">\r\n      <defs>\r\n       <path d=\"M 0 0 \r\nL -3.5 0 \r\n\" id=\"m7248573ecb\" style=\"stroke:#000000;stroke-width:0.8;\"/>\r\n      </defs>\r\n      <g>\r\n       <use style=\"stroke:#000000;stroke-width:0.8;\" x=\"43.78125\" xlink:href=\"#m7248573ecb\" y=\"198.650718\"/>\r\n      </g>\r\n     </g>\r\n     <g id=\"text_7\">\r\n      <!-- 0.4 -->\r\n      <g transform=\"translate(20.878125 202.449937)scale(0.1 -0.1)\">\r\n       <defs>\r\n        <path d=\"M 10.6875 12.40625 \r\nL 21 12.40625 \r\nL 21 0 \r\nL 10.6875 0 \r\nz\r\n\" id=\"DejaVuSans-46\"/>\r\n       </defs>\r\n       <use xlink:href=\"#DejaVuSans-48\"/>\r\n       <use x=\"63.623047\" xlink:href=\"#DejaVuSans-46\"/>\r\n       <use x=\"95.410156\" xlink:href=\"#DejaVuSans-52\"/>\r\n      </g>\r\n     </g>\r\n    </g>\r\n    <g id=\"ytick_2\">\r\n     <g id=\"line2d_7\">\r\n      <g>\r\n       <use style=\"stroke:#000000;stroke-width:0.8;\" x=\"43.78125\" xlink:href=\"#m7248573ecb\" y=\"168.961234\"/>\r\n      </g>\r\n     </g>\r\n     <g id=\"text_8\">\r\n      <!-- 0.6 -->\r\n      <g transform=\"translate(20.878125 172.760452)scale(0.1 -0.1)\">\r\n       <use xlink:href=\"#DejaVuSans-48\"/>\r\n       <use x=\"63.623047\" xlink:href=\"#DejaVuSans-46\"/>\r\n       <use x=\"95.410156\" xlink:href=\"#DejaVuSans-54\"/>\r\n      </g>\r\n     </g>\r\n    </g>\r\n    <g id=\"ytick_3\">\r\n     <g id=\"line2d_8\">\r\n      <g>\r\n       <use style=\"stroke:#000000;stroke-width:0.8;\" x=\"43.78125\" xlink:href=\"#m7248573ecb\" y=\"139.271749\"/>\r\n      </g>\r\n     </g>\r\n     <g id=\"text_9\">\r\n      <!-- 0.8 -->\r\n      <g transform=\"translate(20.878125 143.070968)scale(0.1 -0.1)\">\r\n       <use xlink:href=\"#DejaVuSans-48\"/>\r\n       <use x=\"63.623047\" xlink:href=\"#DejaVuSans-46\"/>\r\n       <use x=\"95.410156\" xlink:href=\"#DejaVuSans-56\"/>\r\n      </g>\r\n     </g>\r\n    </g>\r\n    <g id=\"ytick_4\">\r\n     <g id=\"line2d_9\">\r\n      <g>\r\n       <use style=\"stroke:#000000;stroke-width:0.8;\" x=\"43.78125\" xlink:href=\"#m7248573ecb\" y=\"109.582264\"/>\r\n      </g>\r\n     </g>\r\n     <g id=\"text_10\">\r\n      <!-- 1.0 -->\r\n      <g transform=\"translate(20.878125 113.381483)scale(0.1 -0.1)\">\r\n       <use xlink:href=\"#DejaVuSans-49\"/>\r\n       <use x=\"63.623047\" xlink:href=\"#DejaVuSans-46\"/>\r\n       <use x=\"95.410156\" xlink:href=\"#DejaVuSans-48\"/>\r\n      </g>\r\n     </g>\r\n    </g>\r\n    <g id=\"ytick_5\">\r\n     <g id=\"line2d_10\">\r\n      <g>\r\n       <use style=\"stroke:#000000;stroke-width:0.8;\" x=\"43.78125\" xlink:href=\"#m7248573ecb\" y=\"79.892779\"/>\r\n      </g>\r\n     </g>\r\n     <g id=\"text_11\">\r\n      <!-- 1.2 -->\r\n      <g transform=\"translate(20.878125 83.691998)scale(0.1 -0.1)\">\r\n       <use xlink:href=\"#DejaVuSans-49\"/>\r\n       <use x=\"63.623047\" xlink:href=\"#DejaVuSans-46\"/>\r\n       <use x=\"95.410156\" xlink:href=\"#DejaVuSans-50\"/>\r\n      </g>\r\n     </g>\r\n    </g>\r\n    <g id=\"ytick_6\">\r\n     <g id=\"line2d_11\">\r\n      <g>\r\n       <use style=\"stroke:#000000;stroke-width:0.8;\" x=\"43.78125\" xlink:href=\"#m7248573ecb\" y=\"50.203295\"/>\r\n      </g>\r\n     </g>\r\n     <g id=\"text_12\">\r\n      <!-- 1.4 -->\r\n      <g transform=\"translate(20.878125 54.002513)scale(0.1 -0.1)\">\r\n       <use xlink:href=\"#DejaVuSans-49\"/>\r\n       <use x=\"63.623047\" xlink:href=\"#DejaVuSans-46\"/>\r\n       <use x=\"95.410156\" xlink:href=\"#DejaVuSans-52\"/>\r\n      </g>\r\n     </g>\r\n    </g>\r\n    <g id=\"ytick_7\">\r\n     <g id=\"line2d_12\">\r\n      <g>\r\n       <use style=\"stroke:#000000;stroke-width:0.8;\" x=\"43.78125\" xlink:href=\"#m7248573ecb\" y=\"20.51381\"/>\r\n      </g>\r\n     </g>\r\n     <g id=\"text_13\">\r\n      <!-- 1.6 -->\r\n      <g transform=\"translate(20.878125 24.313029)scale(0.1 -0.1)\">\r\n       <use xlink:href=\"#DejaVuSans-49\"/>\r\n       <use x=\"63.623047\" xlink:href=\"#DejaVuSans-46\"/>\r\n       <use x=\"95.410156\" xlink:href=\"#DejaVuSans-54\"/>\r\n      </g>\r\n     </g>\r\n    </g>\r\n    <g id=\"text_14\">\r\n     <!-- Inertia -->\r\n     <g transform=\"translate(14.798438 132.109062)rotate(-90)scale(0.1 -0.1)\">\r\n      <defs>\r\n       <path d=\"M 9.8125 72.90625 \r\nL 19.671875 72.90625 \r\nL 19.671875 0 \r\nL 9.8125 0 \r\nz\r\n\" id=\"DejaVuSans-73\"/>\r\n       <path d=\"M 54.890625 33.015625 \r\nL 54.890625 0 \r\nL 45.90625 0 \r\nL 45.90625 32.71875 \r\nQ 45.90625 40.484375 42.875 44.328125 \r\nQ 39.84375 48.1875 33.796875 48.1875 \r\nQ 26.515625 48.1875 22.3125 43.546875 \r\nQ 18.109375 38.921875 18.109375 30.90625 \r\nL 18.109375 0 \r\nL 9.078125 0 \r\nL 9.078125 54.6875 \r\nL 18.109375 54.6875 \r\nL 18.109375 46.1875 \r\nQ 21.34375 51.125 25.703125 53.5625 \r\nQ 30.078125 56 35.796875 56 \r\nQ 45.21875 56 50.046875 50.171875 \r\nQ 54.890625 44.34375 54.890625 33.015625 \r\nz\r\n\" id=\"DejaVuSans-110\"/>\r\n       <path d=\"M 9.421875 54.6875 \r\nL 18.40625 54.6875 \r\nL 18.40625 0 \r\nL 9.421875 0 \r\nz\r\nM 9.421875 75.984375 \r\nL 18.40625 75.984375 \r\nL 18.40625 64.59375 \r\nL 9.421875 64.59375 \r\nz\r\n\" id=\"DejaVuSans-105\"/>\r\n       <path d=\"M 34.28125 27.484375 \r\nQ 23.390625 27.484375 19.1875 25 \r\nQ 14.984375 22.515625 14.984375 16.5 \r\nQ 14.984375 11.71875 18.140625 8.90625 \r\nQ 21.296875 6.109375 26.703125 6.109375 \r\nQ 34.1875 6.109375 38.703125 11.40625 \r\nQ 43.21875 16.703125 43.21875 25.484375 \r\nL 43.21875 27.484375 \r\nz\r\nM 52.203125 31.203125 \r\nL 52.203125 0 \r\nL 43.21875 0 \r\nL 43.21875 8.296875 \r\nQ 40.140625 3.328125 35.546875 0.953125 \r\nQ 30.953125 -1.421875 24.3125 -1.421875 \r\nQ 15.921875 -1.421875 10.953125 3.296875 \r\nQ 6 8.015625 6 15.921875 \r\nQ 6 25.140625 12.171875 29.828125 \r\nQ 18.359375 34.515625 30.609375 34.515625 \r\nL 43.21875 34.515625 \r\nL 43.21875 35.40625 \r\nQ 43.21875 41.609375 39.140625 45 \r\nQ 35.0625 48.390625 27.6875 48.390625 \r\nQ 23 48.390625 18.546875 47.265625 \r\nQ 14.109375 46.140625 10.015625 43.890625 \r\nL 10.015625 52.203125 \r\nQ 14.9375 54.109375 19.578125 55.046875 \r\nQ 24.21875 56 28.609375 56 \r\nQ 40.484375 56 46.34375 49.84375 \r\nQ 52.203125 43.703125 52.203125 31.203125 \r\nz\r\n\" id=\"DejaVuSans-97\"/>\r\n      </defs>\r\n      <use xlink:href=\"#DejaVuSans-73\"/>\r\n      <use x=\"29.492188\" xlink:href=\"#DejaVuSans-110\"/>\r\n      <use x=\"92.871094\" xlink:href=\"#DejaVuSans-101\"/>\r\n      <use x=\"154.394531\" xlink:href=\"#DejaVuSans-114\"/>\r\n      <use x=\"195.507812\" xlink:href=\"#DejaVuSans-116\"/>\r\n      <use x=\"234.716797\" xlink:href=\"#DejaVuSans-105\"/>\r\n      <use x=\"262.5\" xlink:href=\"#DejaVuSans-97\"/>\r\n     </g>\r\n    </g>\r\n   </g>\r\n   <g id=\"line2d_13\">\r\n    <path clip-path=\"url(#p69c9698efd)\" d=\"M 58.999432 17.083636 \r\nL 92.817614 79.133335 \r\nL 126.635795 125.650324 \r\nL 160.453977 149.922992 \r\nL 194.272159 167.825911 \r\nL 228.090341 180.23844 \r\nL 261.908523 189.599427 \r\nL 295.726705 197.957081 \r\nL 329.544886 207.297875 \r\nL 363.363068 214.756364 \r\n\" style=\"fill:none;stroke:#1f77b4;stroke-linecap:square;stroke-width:1.5;\"/>\r\n   </g>\r\n   <g id=\"patch_3\">\r\n    <path d=\"M 43.78125 224.64 \r\nL 43.78125 7.2 \r\n\" style=\"fill:none;stroke:#000000;stroke-linecap:square;stroke-linejoin:miter;stroke-width:0.8;\"/>\r\n   </g>\r\n   <g id=\"patch_4\">\r\n    <path d=\"M 378.58125 224.64 \r\nL 378.58125 7.2 \r\n\" style=\"fill:none;stroke:#000000;stroke-linecap:square;stroke-linejoin:miter;stroke-width:0.8;\"/>\r\n   </g>\r\n   <g id=\"patch_5\">\r\n    <path d=\"M 43.78125 224.64 \r\nL 378.58125 224.64 \r\n\" style=\"fill:none;stroke:#000000;stroke-linecap:square;stroke-linejoin:miter;stroke-width:0.8;\"/>\r\n   </g>\r\n   <g id=\"patch_6\">\r\n    <path d=\"M 43.78125 7.2 \r\nL 378.58125 7.2 \r\n\" style=\"fill:none;stroke:#000000;stroke-linecap:square;stroke-linejoin:miter;stroke-width:0.8;\"/>\r\n   </g>\r\n  </g>\r\n </g>\r\n <defs>\r\n  <clipPath id=\"p69c9698efd\">\r\n   <rect height=\"217.44\" width=\"334.8\" x=\"43.78125\" y=\"7.2\"/>\r\n  </clipPath>\r\n </defs>\r\n</svg>\r\n",
      "image/png": "[encoded data removed]"
     },
     "metadata": {
      "needs_background": "light"
     }
    }
   ],
   "source": [
    "# List to store all the inertia values\n",
    "wcss = []\n",
    "\n",
    "# Iterate through all the number of clusters\n",
    "for i in range(1, 11):\n",
    "\n",
    "    # Initialize the KMeans with these parameters \n",
    "    kmeans_i = KMeans(init = 'k-means++', n_clusters = i, random_state = 0)\n",
    "    \n",
    "    # Fit the model\n",
    "    kmeans_i.fit(mumbai_grpd.drop('Venue', axis = 1))\n",
    "    \n",
    "    # Get the inertia and add it to the list\n",
    "    wcss.append(kmeans_i.inertia_)\n",
    "\n",
    "# Plot the wcss with their respective number of clusters \n",
    "plt.plot(range(1, 11), wcss)\n",
    "\n",
    "# Name the axes\n",
    "plt.xlabel('Number of CLuster')\n",
    "plt.ylabel('Inertia')\n",
    "\n",
    "# visualize\n",
    "plt.show()"
   ]
  },
  {
   "cell_type": "code",
   "execution_count": 30,
   "metadata": {},
   "outputs": [
    {
     "output_type": "execute_result",
     "data": {
      "text/plain": [
       "[1.6231069924094814,\n",
       " 1.2051159177328645,\n",
       " 0.8917592561341209,\n",
       " 0.72824905263405,\n",
       " 0.6076479810953374,\n",
       " 0.5240323205180242,\n",
       " 0.4609730474331194,\n",
       " 0.40467261450536696,\n",
       " 0.3417493657728904,\n",
       " 0.29150606406727797]"
      ]
     },
     "metadata": {},
     "execution_count": 30
    }
   ],
   "source": [
    "# Let us look at the within cluster sum of squares\n",
    "wcss"
   ]
  },
  {
   "cell_type": "markdown",
   "metadata": {},
   "source": [
    "#### Clearly from the elbow method <code>number of clusters</code> should be <code>5</code>, as from the graph increasing the number of cluster further will not decrease the wcss much which can be interpreted from the list"
   ]
  },
  {
   "cell_type": "markdown",
   "metadata": {},
   "source": [
    "### Clustering Using 5 clusters"
   ]
  },
  {
   "cell_type": "code",
   "execution_count": 31,
   "metadata": {},
   "outputs": [
    {
     "output_type": "execute_result",
     "data": {
      "text/plain": [
       "KMeans(n_clusters=5, random_state=0)"
      ]
     },
     "metadata": {},
     "execution_count": 31
    }
   ],
   "source": [
    "# define the number of custers\n",
    "klstr = 5\n",
    "\n",
    "# Initialize the KMeans with these parameters\n",
    "kmeans = KMeans(n_clusters = klstr, random_state = 0, init = 'k-means++')\n",
    "\n",
    "# Fit the model\n",
    "kmeans.fit(mumbai_grpd.drop('Venue', axis = 1))"
   ]
  },
  {
   "cell_type": "code",
   "execution_count": 33,
   "metadata": {},
   "outputs": [
    {
     "output_type": "stream",
     "name": "stdout",
     "text": [
      "Cluster Labels:  [3 0 2 2 0 0 2 0 2 3 0 2 2 0 2 2 0 3 2 0 2 1 1 0 1 1 2 1 0 2 0 2 2 0 1 2 3\n 2 2 4 4 1 4 4 3 1 3 4 1 1]\nWithin cluster summ of sqaures:  0.6076479810953374\n"
     ]
    }
   ],
   "source": [
    "# Get the labels and the intertia\n",
    "print(\"Cluster Labels: \", kmeans.labels_)\n",
    "print(\"Within cluster summ of sqaures: \", kmeans.inertia_)"
   ]
  },
  {
   "cell_type": "markdown",
   "metadata": {},
   "source": [
    "### Create a new dataframe with venues and add the labels to the dataframe"
   ]
  },
  {
   "cell_type": "code",
   "execution_count": 35,
   "metadata": {},
   "outputs": [
    {
     "output_type": "execute_result",
     "data": {
      "text/plain": [
       "                                Name  Cluster Labels\n",
       "0               Abhiruchi Restaurant               3\n",
       "1  Amrapali Bar And Restaurant & Bar               0\n",
       "2           Anubhav Restaurant & Bar               2\n",
       "3                    Aram Restaurant               2\n",
       "4                    Army restaurant               0"
      ],
      "text/html": "<div>\n<style scoped>\n    .dataframe tbody tr th:only-of-type {\n        vertical-align: middle;\n    }\n\n    .dataframe tbody tr th {\n        vertical-align: top;\n    }\n\n    .dataframe thead th {\n        text-align: right;\n    }\n</style>\n<table border=\"1\" class=\"dataframe\">\n  <thead>\n    <tr style=\"text-align: right;\">\n      <th></th>\n      <th>Name</th>\n      <th>Cluster Labels</th>\n    </tr>\n  </thead>\n  <tbody>\n    <tr>\n      <th>0</th>\n      <td>Abhiruchi Restaurant</td>\n      <td>3</td>\n    </tr>\n    <tr>\n      <th>1</th>\n      <td>Amrapali Bar And Restaurant &amp; Bar</td>\n      <td>0</td>\n    </tr>\n    <tr>\n      <th>2</th>\n      <td>Anubhav Restaurant &amp; Bar</td>\n      <td>2</td>\n    </tr>\n    <tr>\n      <th>3</th>\n      <td>Aram Restaurant</td>\n      <td>2</td>\n    </tr>\n    <tr>\n      <th>4</th>\n      <td>Army restaurant</td>\n      <td>0</td>\n    </tr>\n  </tbody>\n</table>\n</div>"
     },
     "metadata": {},
     "execution_count": 35
    }
   ],
   "source": [
    "# Add the lable to the df\n",
    "mumbai_grpd.insert(1, 'Cluster Labels', kmeans.labels_)\n",
    "\n",
    "# Extract the labels to form a new df\n",
    "label_df = mumbai_grpd[['Venue', 'Cluster Labels']]\n",
    "\n",
    "# Rename the columns\n",
    "label_df.columns = ['Name', 'Cluster Labels']\n",
    "\n",
    "label_df.head()"
   ]
  },
  {
   "cell_type": "markdown",
   "metadata": {},
   "source": [
    "## Add cluster labels to the original venues dataframe"
   ]
  },
  {
   "cell_type": "code",
   "execution_count": 39,
   "metadata": {},
   "outputs": [
    {
     "output_type": "execute_result",
     "data": {
      "text/plain": [
       "                                Name         Categories  \\\n",
       "0  Nanumal Bhojraj Restaurant - Fort  Indian Restaurant   \n",
       "1                 Farhang Restaurant         Steakhouse   \n",
       "2               Iran Like Restaurant  Indian Restaurant   \n",
       "3            New Majestic Restaurant  Indian Restaurant   \n",
       "4        Stadium Restaurant & Stores  Indian Restaurant   \n",
       "\n",
       "                       Address   Latitude  Longitude  Distance  \\\n",
       "0           Near GPO, Fort, VT  18.937974  72.837663       260   \n",
       "1                 Opposite GPO  18.938165  72.837917       280   \n",
       "2  Palton Road, Near Haj House  18.945343  72.836809       747   \n",
       "3                      Opp CST  18.938972  72.835517        29   \n",
       "4            Veer Nariman Road  18.933173  72.826929      1082   \n",
       "\n",
       "                         Id  Cluster Labels  \n",
       "0  5263f0f5498edc1ad5f3270f               2  \n",
       "1  4e4c0a4122713bd908c641ff               2  \n",
       "2  4fb5276be4b0b34b9ac27a1b               3  \n",
       "3  4d9f2bfe9b91a1cda6c365c0               2  \n",
       "4  4c09449eed2595217aee1256               4  "
      ],
      "text/html": "<div>\n<style scoped>\n    .dataframe tbody tr th:only-of-type {\n        vertical-align: middle;\n    }\n\n    .dataframe tbody tr th {\n        vertical-align: top;\n    }\n\n    .dataframe thead th {\n        text-align: right;\n    }\n</style>\n<table border=\"1\" class=\"dataframe\">\n  <thead>\n    <tr style=\"text-align: right;\">\n      <th></th>\n      <th>Name</th>\n      <th>Categories</th>\n      <th>Address</th>\n      <th>Latitude</th>\n      <th>Longitude</th>\n      <th>Distance</th>\n      <th>Id</th>\n      <th>Cluster Labels</th>\n    </tr>\n  </thead>\n  <tbody>\n    <tr>\n      <th>0</th>\n      <td>Nanumal Bhojraj Restaurant - Fort</td>\n      <td>Indian Restaurant</td>\n      <td>Near GPO, Fort, VT</td>\n      <td>18.937974</td>\n      <td>72.837663</td>\n      <td>260</td>\n      <td>5263f0f5498edc1ad5f3270f</td>\n      <td>2</td>\n    </tr>\n    <tr>\n      <th>1</th>\n      <td>Farhang Restaurant</td>\n      <td>Steakhouse</td>\n      <td>Opposite GPO</td>\n      <td>18.938165</td>\n      <td>72.837917</td>\n      <td>280</td>\n      <td>4e4c0a4122713bd908c641ff</td>\n      <td>2</td>\n    </tr>\n    <tr>\n      <th>2</th>\n      <td>Iran Like Restaurant</td>\n      <td>Indian Restaurant</td>\n      <td>Palton Road, Near Haj House</td>\n      <td>18.945343</td>\n      <td>72.836809</td>\n      <td>747</td>\n      <td>4fb5276be4b0b34b9ac27a1b</td>\n      <td>3</td>\n    </tr>\n    <tr>\n      <th>3</th>\n      <td>New Majestic Restaurant</td>\n      <td>Indian Restaurant</td>\n      <td>Opp CST</td>\n      <td>18.938972</td>\n      <td>72.835517</td>\n      <td>29</td>\n      <td>4d9f2bfe9b91a1cda6c365c0</td>\n      <td>2</td>\n    </tr>\n    <tr>\n      <th>4</th>\n      <td>Stadium Restaurant &amp; Stores</td>\n      <td>Indian Restaurant</td>\n      <td>Veer Nariman Road</td>\n      <td>18.933173</td>\n      <td>72.826929</td>\n      <td>1082</td>\n      <td>4c09449eed2595217aee1256</td>\n      <td>4</td>\n    </tr>\n  </tbody>\n</table>\n</div>"
     },
     "metadata": {},
     "execution_count": 39
    }
   ],
   "source": [
    "# Merge the label and venues df on Name column\n",
    "venues_df = pd.merge(venues_df, label_df, on = 'Name')\n",
    "venues_df.head()"
   ]
  },
  {
   "cell_type": "markdown",
   "metadata": {},
   "source": [
    "## Visualize the Cluster"
   ]
  },
  {
   "cell_type": "code",
   "execution_count": 40,
   "metadata": {},
   "outputs": [
    {
     "output_type": "execute_result",
     "data": {
      "text/plain": [
       "<folium.folium.Map at 0x2831aa76208>"
      ],
      "text/html": "<div style=\"width:100%;\"><div style=\"position:relative;width:100%;height:0;padding-bottom:60%;\"><span style=\"color:#565656\">Make this Notebook Trusted to load map: File -> Trust Notebook</span><iframe src=\"about:blank\" style=\"position:absolute;width:100%;height:100%;left:0;top:0;border:none !important;\" data-html=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 onload=\"this.contentDocument.open();this.contentDocument.write(atob(this.getAttribute('data-html')));this.contentDocument.close();\" allowfullscreen webkitallowfullscreen mozallowfullscreen></iframe></div></div>"
     },
     "metadata": {},
     "execution_count": 40
    }
   ],
   "source": [
    "cluster_map = folium.Map(location = [latitude, longitude], zoom_start = 15)\n",
    "\n",
    "x = np.arange(klstr)\n",
    "ys = [i + x + (i*x)**2 for i in range(klstr)]\n",
    "\n",
    "# colors space for the cluster\n",
    "colors_array = cm.rainbow(np.linspace(0, 1, len(ys)))\n",
    "\n",
    "# colors for the specific cluster\n",
    "rainbow = [colors.rgb2hex(i) for i in colors_array]\n",
    "\n",
    "# Add markers to the map\n",
    "markers_colors = []\n",
    "for lat, lng, hood, cluster in zip(venues_df['Latitude'], venues_df['Longitude'], venues_df['Name'], venues_df['Cluster Labels']):\n",
    "    label = str(hood) + ', Cluster ' + str(cluster)\n",
    "    folium.CircleMarker(\n",
    "        [lat, lng],\n",
    "        radius = 5,\n",
    "        popup = label,\n",
    "        color = rainbow[cluster - 1],\n",
    "        fill = True,\n",
    "        fill_color = 'yellow',\n",
    "        fill_opacity = 0.7\n",
    "    ).add_to(cluster_map)\n",
    "\n",
    "\n",
    "cluster_map"
   ]
  },
  {
   "source": [
    "#### Now we can segment the venues on the basis of the labels"
   ],
   "cell_type": "markdown",
   "metadata": {}
  },
  {
   "source": [
    "#### Segment 1"
   ],
   "cell_type": "markdown",
   "metadata": {}
  },
  {
   "cell_type": "code",
   "execution_count": 49,
   "metadata": {},
   "outputs": [
    {
     "output_type": "stream",
     "name": "stdout",
     "text": [
      "Total:  12\n"
     ]
    },
    {
     "output_type": "execute_result",
     "data": {
      "text/plain": [
       "                                          Name            Categories  \\\n",
       "8   Nanumal Bhojraj Restaurant - Masjid Bunder     Indian Restaurant   \n",
       "19                         Brighton Restaurant            Restaurant   \n",
       "23                             Fort restaurant     Indian Restaurant   \n",
       "24                            India Restaurant     Indian Restaurant   \n",
       "26                            Lalit restaurant                   Bar   \n",
       "27                        New Udupi Restaurant  Fast Food Restaurant   \n",
       "30                   Modern Restaurant and Bar            Restaurant   \n",
       "32                           Dwarka restaurant     Indian Restaurant   \n",
       "36               Bademiya The Kabab Restaurant    Mughlai Restaurant   \n",
       "42                             Army restaurant      Asian Restaurant   \n",
       "44           Amrapali Bar And Restaurant & Bar            Restaurant   \n",
       "47           Kamat restaurant (indian cuisine)     Indian Restaurant   \n",
       "\n",
       "                                              Address   Latitude  Longitude  \\\n",
       "8   Gaumukh Bhawan, Masjid Bunder West, Near Masji...  18.953200  72.837577   \n",
       "19                                                NaN  18.935007  72.833687   \n",
       "23                                               Fort  18.933971  72.833605   \n",
       "24                            82, Janma Bhoomio Marg,  18.933360  72.831855   \n",
       "26                                 Cawasji Patel road  18.935002  72.833791   \n",
       "27                                                NaN  18.933005  72.834305   \n",
       "30                                               Fort  18.933058  72.833440   \n",
       "32                                               Fort  18.932187  72.833336   \n",
       "36                                    Horniman Circle  18.931330  72.834983   \n",
       "42                                         Kala ghoda  18.932583  72.830041   \n",
       "44                                                NaN  18.930363  72.831985   \n",
       "47                                             Colaba  18.930099  72.831397   \n",
       "\n",
       "    Distance                        Id  Cluster Labels  \n",
       "8       1623  5263f3ed11d233a4dfbfa5d0               0  \n",
       "19       453  4fe04a32e4b0214434085a1d               0  \n",
       "23       564  4ccbd86354f0b1f7104212ca               0  \n",
       "24       705  4cfc9729feec6dcb47414d36               0  \n",
       "26       450  4cbd5908d8e9bfb748b8d6d2               0  \n",
       "27       650  51908c86498e89cb8b832c9d               0  \n",
       "30       666  4fa38ee4e4b0d905243e3b16               0  \n",
       "32       762  4d4281ea946af04d488f0477               0  \n",
       "36       829  54ca78a3498e9ab786013874               0  \n",
       "42       886  4fba17b1e4b05dd0d7063d58               0  \n",
       "44      1000  5e1459498506bc000839f13b               0  \n",
       "47      1050  52b4691a498ee015a5521628               0  "
      ],
      "text/html": "<div>\n<style scoped>\n    .dataframe tbody tr th:only-of-type {\n        vertical-align: middle;\n    }\n\n    .dataframe tbody tr th {\n        vertical-align: top;\n    }\n\n    .dataframe thead th {\n        text-align: right;\n    }\n</style>\n<table border=\"1\" class=\"dataframe\">\n  <thead>\n    <tr style=\"text-align: right;\">\n      <th></th>\n      <th>Name</th>\n      <th>Categories</th>\n      <th>Address</th>\n      <th>Latitude</th>\n      <th>Longitude</th>\n      <th>Distance</th>\n      <th>Id</th>\n      <th>Cluster Labels</th>\n    </tr>\n  </thead>\n  <tbody>\n    <tr>\n      <th>8</th>\n      <td>Nanumal Bhojraj Restaurant - Masjid Bunder</td>\n      <td>Indian Restaurant</td>\n      <td>Gaumukh Bhawan, Masjid Bunder West, Near Masji...</td>\n      <td>18.953200</td>\n      <td>72.837577</td>\n      <td>1623</td>\n      <td>5263f3ed11d233a4dfbfa5d0</td>\n      <td>0</td>\n    </tr>\n    <tr>\n      <th>19</th>\n      <td>Brighton Restaurant</td>\n      <td>Restaurant</td>\n      <td>NaN</td>\n      <td>18.935007</td>\n      <td>72.833687</td>\n      <td>453</td>\n      <td>4fe04a32e4b0214434085a1d</td>\n      <td>0</td>\n    </tr>\n    <tr>\n      <th>23</th>\n      <td>Fort restaurant</td>\n      <td>Indian Restaurant</td>\n      <td>Fort</td>\n      <td>18.933971</td>\n      <td>72.833605</td>\n      <td>564</td>\n      <td>4ccbd86354f0b1f7104212ca</td>\n      <td>0</td>\n    </tr>\n    <tr>\n      <th>24</th>\n      <td>India Restaurant</td>\n      <td>Indian Restaurant</td>\n      <td>82, Janma Bhoomio Marg,</td>\n      <td>18.933360</td>\n      <td>72.831855</td>\n      <td>705</td>\n      <td>4cfc9729feec6dcb47414d36</td>\n      <td>0</td>\n    </tr>\n    <tr>\n      <th>26</th>\n      <td>Lalit restaurant</td>\n      <td>Bar</td>\n      <td>Cawasji Patel road</td>\n      <td>18.935002</td>\n      <td>72.833791</td>\n      <td>450</td>\n      <td>4cbd5908d8e9bfb748b8d6d2</td>\n      <td>0</td>\n    </tr>\n    <tr>\n      <th>27</th>\n      <td>New Udupi Restaurant</td>\n      <td>Fast Food Restaurant</td>\n      <td>NaN</td>\n      <td>18.933005</td>\n      <td>72.834305</td>\n      <td>650</td>\n      <td>51908c86498e89cb8b832c9d</td>\n      <td>0</td>\n    </tr>\n    <tr>\n      <th>30</th>\n      <td>Modern Restaurant and Bar</td>\n      <td>Restaurant</td>\n      <td>Fort</td>\n      <td>18.933058</td>\n      <td>72.833440</td>\n      <td>666</td>\n      <td>4fa38ee4e4b0d905243e3b16</td>\n      <td>0</td>\n    </tr>\n    <tr>\n      <th>32</th>\n      <td>Dwarka restaurant</td>\n      <td>Indian Restaurant</td>\n      <td>Fort</td>\n      <td>18.932187</td>\n      <td>72.833336</td>\n      <td>762</td>\n      <td>4d4281ea946af04d488f0477</td>\n      <td>0</td>\n    </tr>\n    <tr>\n      <th>36</th>\n      <td>Bademiya The Kabab Restaurant</td>\n      <td>Mughlai Restaurant</td>\n      <td>Horniman Circle</td>\n      <td>18.931330</td>\n      <td>72.834983</td>\n      <td>829</td>\n      <td>54ca78a3498e9ab786013874</td>\n      <td>0</td>\n    </tr>\n    <tr>\n      <th>42</th>\n      <td>Army restaurant</td>\n      <td>Asian Restaurant</td>\n      <td>Kala ghoda</td>\n      <td>18.932583</td>\n      <td>72.830041</td>\n      <td>886</td>\n      <td>4fba17b1e4b05dd0d7063d58</td>\n      <td>0</td>\n    </tr>\n    <tr>\n      <th>44</th>\n      <td>Amrapali Bar And Restaurant &amp; Bar</td>\n      <td>Restaurant</td>\n      <td>NaN</td>\n      <td>18.930363</td>\n      <td>72.831985</td>\n      <td>1000</td>\n      <td>5e1459498506bc000839f13b</td>\n      <td>0</td>\n    </tr>\n    <tr>\n      <th>47</th>\n      <td>Kamat restaurant (indian cuisine)</td>\n      <td>Indian Restaurant</td>\n      <td>Colaba</td>\n      <td>18.930099</td>\n      <td>72.831397</td>\n      <td>1050</td>\n      <td>52b4691a498ee015a5521628</td>\n      <td>0</td>\n    </tr>\n  </tbody>\n</table>\n</div>"
     },
     "metadata": {},
     "execution_count": 49
    }
   ],
   "source": [
    "print('Total: ', venues_df[venues_df['Cluster Labels'] == 0].shape[0])\n",
    "\n",
    "venues_df[venues_df['Cluster Labels'] == 0]"
   ]
  },
  {
   "source": [
    "#### Segment 2"
   ],
   "cell_type": "markdown",
   "metadata": {}
  },
  {
   "cell_type": "code",
   "execution_count": 50,
   "metadata": {},
   "outputs": [
    {
     "output_type": "stream",
     "name": "stdout",
     "text": [
      "Total:  10\n"
     ]
    },
    {
     "output_type": "execute_result",
     "data": {
      "text/plain": [
       "                           Name                     Categories  \\\n",
       "5   Panchratna restaurant & bar              Indian Restaurant   \n",
       "21           Welcome Restaurant              Indian Restaurant   \n",
       "28   Kit Kat - Bar & Restaurant                            Bar   \n",
       "29             kamat restaurant  Vegetarian / Vegan Restaurant   \n",
       "33            edward restaurant                    Snack Place   \n",
       "34           Khuda-E Restaurant                      Hotel Bar   \n",
       "39        Mao Family Restaurant             Punjabi Restaurant   \n",
       "41           Liberty Restaurant              Indian Restaurant   \n",
       "45  Lord Irwin Bar & Restaurant             English Restaurant   \n",
       "49         Snowflake restaurant             Seafood Restaurant   \n",
       "\n",
       "                                              Address   Latitude  Longitude  \\\n",
       "5                                   Opp. Metro Cinema  18.942900  72.826820   \n",
       "21                                                NaN  18.942531  72.831328   \n",
       "28                                  1sr Marine street  18.942578  72.828532   \n",
       "29                                                NaN  18.941806  72.827485   \n",
       "33                                           c h road  18.945301  72.829118   \n",
       "34                                                NaN  18.945160  72.830874   \n",
       "39                          534 / 536, Kalbadevi Road  18.943966  72.829435   \n",
       "41  opposite Liberty Cinema, Jasville, 9, New Mari...  18.941539  72.827185   \n",
       "45                                                NaN  18.942060  72.826465   \n",
       "49                                                NaN  18.943933  72.826486   \n",
       "\n",
       "    Distance                        Id  Cluster Labels  \n",
       "5       1007  4f489f23e4b018635344413a               1  \n",
       "21       594  4f8d364de4b037ca8449555d               1  \n",
       "28       832  4cade9768b57a1cdb4df9b75               1  \n",
       "29       892  533a6a0c498e5f891d2d5cde               1  \n",
       "33       978  4cce3dc0c566199c5082c98c               1  \n",
       "34       852  50cdd967e4b000435cee267a               1  \n",
       "39       848  54c89284498e717a375b5019               1  \n",
       "41       911  4e196b2aa8097d08b240a067               1  \n",
       "45      1003  584d3be84287c956a20ac0a7               1  \n",
       "49      1094  4f2fe9ace4b006ef9baa815e               1  "
      ],
      "text/html": "<div>\n<style scoped>\n    .dataframe tbody tr th:only-of-type {\n        vertical-align: middle;\n    }\n\n    .dataframe tbody tr th {\n        vertical-align: top;\n    }\n\n    .dataframe thead th {\n        text-align: right;\n    }\n</style>\n<table border=\"1\" class=\"dataframe\">\n  <thead>\n    <tr style=\"text-align: right;\">\n      <th></th>\n      <th>Name</th>\n      <th>Categories</th>\n      <th>Address</th>\n      <th>Latitude</th>\n      <th>Longitude</th>\n      <th>Distance</th>\n      <th>Id</th>\n      <th>Cluster Labels</th>\n    </tr>\n  </thead>\n  <tbody>\n    <tr>\n      <th>5</th>\n      <td>Panchratna restaurant &amp; bar</td>\n      <td>Indian Restaurant</td>\n      <td>Opp. Metro Cinema</td>\n      <td>18.942900</td>\n      <td>72.826820</td>\n      <td>1007</td>\n      <td>4f489f23e4b018635344413a</td>\n      <td>1</td>\n    </tr>\n    <tr>\n      <th>21</th>\n      <td>Welcome Restaurant</td>\n      <td>Indian Restaurant</td>\n      <td>NaN</td>\n      <td>18.942531</td>\n      <td>72.831328</td>\n      <td>594</td>\n      <td>4f8d364de4b037ca8449555d</td>\n      <td>1</td>\n    </tr>\n    <tr>\n      <th>28</th>\n      <td>Kit Kat - Bar &amp; Restaurant</td>\n      <td>Bar</td>\n      <td>1sr Marine street</td>\n      <td>18.942578</td>\n      <td>72.828532</td>\n      <td>832</td>\n      <td>4cade9768b57a1cdb4df9b75</td>\n      <td>1</td>\n    </tr>\n    <tr>\n      <th>29</th>\n      <td>kamat restaurant</td>\n      <td>Vegetarian / Vegan Restaurant</td>\n      <td>NaN</td>\n      <td>18.941806</td>\n      <td>72.827485</td>\n      <td>892</td>\n      <td>533a6a0c498e5f891d2d5cde</td>\n      <td>1</td>\n    </tr>\n    <tr>\n      <th>33</th>\n      <td>edward restaurant</td>\n      <td>Snack Place</td>\n      <td>c h road</td>\n      <td>18.945301</td>\n      <td>72.829118</td>\n      <td>978</td>\n      <td>4cce3dc0c566199c5082c98c</td>\n      <td>1</td>\n    </tr>\n    <tr>\n      <th>34</th>\n      <td>Khuda-E Restaurant</td>\n      <td>Hotel Bar</td>\n      <td>NaN</td>\n      <td>18.945160</td>\n      <td>72.830874</td>\n      <td>852</td>\n      <td>50cdd967e4b000435cee267a</td>\n      <td>1</td>\n    </tr>\n    <tr>\n      <th>39</th>\n      <td>Mao Family Restaurant</td>\n      <td>Punjabi Restaurant</td>\n      <td>534 / 536, Kalbadevi Road</td>\n      <td>18.943966</td>\n      <td>72.829435</td>\n      <td>848</td>\n      <td>54c89284498e717a375b5019</td>\n      <td>1</td>\n    </tr>\n    <tr>\n      <th>41</th>\n      <td>Liberty Restaurant</td>\n      <td>Indian Restaurant</td>\n      <td>opposite Liberty Cinema, Jasville, 9, New Mari...</td>\n      <td>18.941539</td>\n      <td>72.827185</td>\n      <td>911</td>\n      <td>4e196b2aa8097d08b240a067</td>\n      <td>1</td>\n    </tr>\n    <tr>\n      <th>45</th>\n      <td>Lord Irwin Bar &amp; Restaurant</td>\n      <td>English Restaurant</td>\n      <td>NaN</td>\n      <td>18.942060</td>\n      <td>72.826465</td>\n      <td>1003</td>\n      <td>584d3be84287c956a20ac0a7</td>\n      <td>1</td>\n    </tr>\n    <tr>\n      <th>49</th>\n      <td>Snowflake restaurant</td>\n      <td>Seafood Restaurant</td>\n      <td>NaN</td>\n      <td>18.943933</td>\n      <td>72.826486</td>\n      <td>1094</td>\n      <td>4f2fe9ace4b006ef9baa815e</td>\n      <td>1</td>\n    </tr>\n  </tbody>\n</table>\n</div>"
     },
     "metadata": {},
     "execution_count": 50
    }
   ],
   "source": [
    "print('Total: ', venues_df[venues_df['Cluster Labels'] == 1].shape[0])\n",
    "\n",
    "venues_df[venues_df['Cluster Labels'] == 1]"
   ]
  },
  {
   "source": [
    "#### Segment 3"
   ],
   "cell_type": "markdown",
   "metadata": {}
  },
  {
   "cell_type": "code",
   "execution_count": 51,
   "metadata": {},
   "outputs": [
    {
     "output_type": "stream",
     "name": "stdout",
     "text": [
      "Total:  17\n"
     ]
    },
    {
     "output_type": "execute_result",
     "data": {
      "text/plain": [
       "                                 Name            Categories  \\\n",
       "0   Nanumal Bhojraj Restaurant - Fort     Indian Restaurant   \n",
       "1                  Farhang Restaurant            Steakhouse   \n",
       "3             New Majestic Restaurant     Indian Restaurant   \n",
       "6                Sai Pooja Restaurant     Indian Restaurant   \n",
       "7                   Poonam Restaurant            Restaurant   \n",
       "9                     Aram Restaurant      Asian Restaurant   \n",
       "10                 Kalpana restaurant     Indian Restaurant   \n",
       "11                 Gulshan Restaurant     Indian Restaurant   \n",
       "12             Royal China Restaurant  Cantonese Restaurant   \n",
       "13          Mangalore naaz Restaurant      Asian Restaurant   \n",
       "14           Anubhav Restaurant & Bar     Indian Restaurant   \n",
       "15                National Restaurant                  Food   \n",
       "16                  Canara Restaurant     Indian Restaurant   \n",
       "17                  Bombay Restaurant     Indian Restaurant   \n",
       "18                Goodluck Restaurant     Indian Restaurant   \n",
       "20                  Kayani Restaurant            Irani Cafe   \n",
       "25             Excellensea Restaurant             BBQ Joint   \n",
       "\n",
       "                      Address   Latitude  Longitude  Distance  \\\n",
       "0          Near GPO, Fort, VT  18.937974  72.837663       260   \n",
       "1                Opposite GPO  18.938165  72.837917       280   \n",
       "3                     Opp CST  18.938972  72.835517        29   \n",
       "6                         NaN  18.938357  72.835073        53   \n",
       "7                         NaN  18.939225  72.835707        63   \n",
       "9   Capitol building, DN Road  18.939543  72.834495       123   \n",
       "10                        Gpo  18.937489  72.836157       166   \n",
       "11                        NaN  18.938199  72.837764       263   \n",
       "12                        NaN  18.937876  72.831005       466   \n",
       "13                        NaN  18.937245  72.837606       293   \n",
       "14                        NaN  18.936497  72.837586       346   \n",
       "15            opp fort market  18.935112  72.836896       439   \n",
       "16                        NaN  18.936847  72.837525       314   \n",
       "17                        NaN  18.935902  72.834426       333   \n",
       "18                        NaN  18.935578  72.837357       414   \n",
       "20                        NaN  18.935040  72.836941       448   \n",
       "25                  Mint Road  18.935266  72.837240       438   \n",
       "\n",
       "                          Id  Cluster Labels  \n",
       "0   5263f0f5498edc1ad5f3270f               2  \n",
       "1   4e4c0a4122713bd908c641ff               2  \n",
       "3   4d9f2bfe9b91a1cda6c365c0               2  \n",
       "6   4e7c3bdf52b10564f7f6fd20               2  \n",
       "7   516b85f7498ee0be22ee065a               2  \n",
       "9   4f1e22ffe4b0fb1c9661f579               2  \n",
       "10  4e380d42149579ccbaf3993f               2  \n",
       "11  52e606d5498e5b4456258e37               2  \n",
       "12  53faf614498ea66a49cfc4e4               2  \n",
       "13  5278a75e11d2311d4b3b2e6e               2  \n",
       "14  5c1a64df93bd63002c8d9467               2  \n",
       "15  4dfc5840aeb7594e861fcf63               2  \n",
       "16  50cdc3f9e4b06f07dd96acca               2  \n",
       "17  4cea1f8ef1c6236aeb2369f0               2  \n",
       "18  4e6e2d0752b1d151b7e7d12a               2  \n",
       "20  4f1ed1b7e4b0ab7784c2db4c               2  \n",
       "25  4c9b6fbc78ffa093fdeb7475               2  "
      ],
      "text/html": "<div>\n<style scoped>\n    .dataframe tbody tr th:only-of-type {\n        vertical-align: middle;\n    }\n\n    .dataframe tbody tr th {\n        vertical-align: top;\n    }\n\n    .dataframe thead th {\n        text-align: right;\n    }\n</style>\n<table border=\"1\" class=\"dataframe\">\n  <thead>\n    <tr style=\"text-align: right;\">\n      <th></th>\n      <th>Name</th>\n      <th>Categories</th>\n      <th>Address</th>\n      <th>Latitude</th>\n      <th>Longitude</th>\n      <th>Distance</th>\n      <th>Id</th>\n      <th>Cluster Labels</th>\n    </tr>\n  </thead>\n  <tbody>\n    <tr>\n      <th>0</th>\n      <td>Nanumal Bhojraj Restaurant - Fort</td>\n      <td>Indian Restaurant</td>\n      <td>Near GPO, Fort, VT</td>\n      <td>18.937974</td>\n      <td>72.837663</td>\n      <td>260</td>\n      <td>5263f0f5498edc1ad5f3270f</td>\n      <td>2</td>\n    </tr>\n    <tr>\n      <th>1</th>\n      <td>Farhang Restaurant</td>\n      <td>Steakhouse</td>\n      <td>Opposite GPO</td>\n      <td>18.938165</td>\n      <td>72.837917</td>\n      <td>280</td>\n      <td>4e4c0a4122713bd908c641ff</td>\n      <td>2</td>\n    </tr>\n    <tr>\n      <th>3</th>\n      <td>New Majestic Restaurant</td>\n      <td>Indian Restaurant</td>\n      <td>Opp CST</td>\n      <td>18.938972</td>\n      <td>72.835517</td>\n      <td>29</td>\n      <td>4d9f2bfe9b91a1cda6c365c0</td>\n      <td>2</td>\n    </tr>\n    <tr>\n      <th>6</th>\n      <td>Sai Pooja Restaurant</td>\n      <td>Indian Restaurant</td>\n      <td>NaN</td>\n      <td>18.938357</td>\n      <td>72.835073</td>\n      <td>53</td>\n      <td>4e7c3bdf52b10564f7f6fd20</td>\n      <td>2</td>\n    </tr>\n    <tr>\n      <th>7</th>\n      <td>Poonam Restaurant</td>\n      <td>Restaurant</td>\n      <td>NaN</td>\n      <td>18.939225</td>\n      <td>72.835707</td>\n      <td>63</td>\n      <td>516b85f7498ee0be22ee065a</td>\n      <td>2</td>\n    </tr>\n    <tr>\n      <th>9</th>\n      <td>Aram Restaurant</td>\n      <td>Asian Restaurant</td>\n      <td>Capitol building, DN Road</td>\n      <td>18.939543</td>\n      <td>72.834495</td>\n      <td>123</td>\n      <td>4f1e22ffe4b0fb1c9661f579</td>\n      <td>2</td>\n    </tr>\n    <tr>\n      <th>10</th>\n      <td>Kalpana restaurant</td>\n      <td>Indian Restaurant</td>\n      <td>Gpo</td>\n      <td>18.937489</td>\n      <td>72.836157</td>\n      <td>166</td>\n      <td>4e380d42149579ccbaf3993f</td>\n      <td>2</td>\n    </tr>\n    <tr>\n      <th>11</th>\n      <td>Gulshan Restaurant</td>\n      <td>Indian Restaurant</td>\n      <td>NaN</td>\n      <td>18.938199</td>\n      <td>72.837764</td>\n      <td>263</td>\n      <td>52e606d5498e5b4456258e37</td>\n      <td>2</td>\n    </tr>\n    <tr>\n      <th>12</th>\n      <td>Royal China Restaurant</td>\n      <td>Cantonese Restaurant</td>\n      <td>NaN</td>\n      <td>18.937876</td>\n      <td>72.831005</td>\n      <td>466</td>\n      <td>53faf614498ea66a49cfc4e4</td>\n      <td>2</td>\n    </tr>\n    <tr>\n      <th>13</th>\n      <td>Mangalore naaz Restaurant</td>\n      <td>Asian Restaurant</td>\n      <td>NaN</td>\n      <td>18.937245</td>\n      <td>72.837606</td>\n      <td>293</td>\n      <td>5278a75e11d2311d4b3b2e6e</td>\n      <td>2</td>\n    </tr>\n    <tr>\n      <th>14</th>\n      <td>Anubhav Restaurant &amp; Bar</td>\n      <td>Indian Restaurant</td>\n      <td>NaN</td>\n      <td>18.936497</td>\n      <td>72.837586</td>\n      <td>346</td>\n      <td>5c1a64df93bd63002c8d9467</td>\n      <td>2</td>\n    </tr>\n    <tr>\n      <th>15</th>\n      <td>National Restaurant</td>\n      <td>Food</td>\n      <td>opp fort market</td>\n      <td>18.935112</td>\n      <td>72.836896</td>\n      <td>439</td>\n      <td>4dfc5840aeb7594e861fcf63</td>\n      <td>2</td>\n    </tr>\n    <tr>\n      <th>16</th>\n      <td>Canara Restaurant</td>\n      <td>Indian Restaurant</td>\n      <td>NaN</td>\n      <td>18.936847</td>\n      <td>72.837525</td>\n      <td>314</td>\n      <td>50cdc3f9e4b06f07dd96acca</td>\n      <td>2</td>\n    </tr>\n    <tr>\n      <th>17</th>\n      <td>Bombay Restaurant</td>\n      <td>Indian Restaurant</td>\n      <td>NaN</td>\n      <td>18.935902</td>\n      <td>72.834426</td>\n      <td>333</td>\n      <td>4cea1f8ef1c6236aeb2369f0</td>\n      <td>2</td>\n    </tr>\n    <tr>\n      <th>18</th>\n      <td>Goodluck Restaurant</td>\n      <td>Indian Restaurant</td>\n      <td>NaN</td>\n      <td>18.935578</td>\n      <td>72.837357</td>\n      <td>414</td>\n      <td>4e6e2d0752b1d151b7e7d12a</td>\n      <td>2</td>\n    </tr>\n    <tr>\n      <th>20</th>\n      <td>Kayani Restaurant</td>\n      <td>Irani Cafe</td>\n      <td>NaN</td>\n      <td>18.935040</td>\n      <td>72.836941</td>\n      <td>448</td>\n      <td>4f1ed1b7e4b0ab7784c2db4c</td>\n      <td>2</td>\n    </tr>\n    <tr>\n      <th>25</th>\n      <td>Excellensea Restaurant</td>\n      <td>BBQ Joint</td>\n      <td>Mint Road</td>\n      <td>18.935266</td>\n      <td>72.837240</td>\n      <td>438</td>\n      <td>4c9b6fbc78ffa093fdeb7475</td>\n      <td>2</td>\n    </tr>\n  </tbody>\n</table>\n</div>"
     },
     "metadata": {},
     "execution_count": 51
    }
   ],
   "source": [
    "print('Total: ', venues_df[venues_df['Cluster Labels'] == 2].shape[0])\n",
    "\n",
    "venues_df[venues_df['Cluster Labels'] == 2]"
   ]
  },
  {
   "source": [
    "#### Segment 4"
   ],
   "cell_type": "markdown",
   "metadata": {}
  },
  {
   "cell_type": "code",
   "execution_count": 52,
   "metadata": {},
   "outputs": [
    {
     "output_type": "stream",
     "name": "stdout",
     "text": [
      "Total:  6\n"
     ]
    },
    {
     "output_type": "execute_result",
     "data": {
      "text/plain": [
       "                       Name         Categories                      Address  \\\n",
       "2      Iran Like Restaurant  Indian Restaurant  Palton Road, Near Haj House   \n",
       "35  Yadgar Iqbal Restaurant  Indian Restaurant            Mohammed Ali Road   \n",
       "37         Civil Restaurant  Afghan Restaurant         Near Crawford Market   \n",
       "38       Ustaadi Restaurant             Lounge    B Block, Sitaram Building   \n",
       "40     Abhiruchi Restaurant   Asian Restaurant        Ramabai Ambedkar Marg   \n",
       "43         Radio Restaurant        Snack Place                          NaN   \n",
       "\n",
       "     Latitude  Longitude  Distance                        Id  Cluster Labels  \n",
       "2   18.945343  72.836809       747  4fb5276be4b0b34b9ac27a1b               3  \n",
       "35  18.946279  72.834836       837  4fb5282be4b087193afc1656               3  \n",
       "37  18.945857  72.833884       803  52f65ca9498e084083ee43db               3  \n",
       "38  18.945482  72.834270       755  59be9e8a3149b92b3cd3501e               3  \n",
       "40  18.946803  72.835561       894  4dbbcfcdf7b1ab37dd4e2708               3  \n",
       "43  18.947904  72.835886      1018  4e900e94b8f79f71de555687               3  "
      ],
      "text/html": "<div>\n<style scoped>\n    .dataframe tbody tr th:only-of-type {\n        vertical-align: middle;\n    }\n\n    .dataframe tbody tr th {\n        vertical-align: top;\n    }\n\n    .dataframe thead th {\n        text-align: right;\n    }\n</style>\n<table border=\"1\" class=\"dataframe\">\n  <thead>\n    <tr style=\"text-align: right;\">\n      <th></th>\n      <th>Name</th>\n      <th>Categories</th>\n      <th>Address</th>\n      <th>Latitude</th>\n      <th>Longitude</th>\n      <th>Distance</th>\n      <th>Id</th>\n      <th>Cluster Labels</th>\n    </tr>\n  </thead>\n  <tbody>\n    <tr>\n      <th>2</th>\n      <td>Iran Like Restaurant</td>\n      <td>Indian Restaurant</td>\n      <td>Palton Road, Near Haj House</td>\n      <td>18.945343</td>\n      <td>72.836809</td>\n      <td>747</td>\n      <td>4fb5276be4b0b34b9ac27a1b</td>\n      <td>3</td>\n    </tr>\n    <tr>\n      <th>35</th>\n      <td>Yadgar Iqbal Restaurant</td>\n      <td>Indian Restaurant</td>\n      <td>Mohammed Ali Road</td>\n      <td>18.946279</td>\n      <td>72.834836</td>\n      <td>837</td>\n      <td>4fb5282be4b087193afc1656</td>\n      <td>3</td>\n    </tr>\n    <tr>\n      <th>37</th>\n      <td>Civil Restaurant</td>\n      <td>Afghan Restaurant</td>\n      <td>Near Crawford Market</td>\n      <td>18.945857</td>\n      <td>72.833884</td>\n      <td>803</td>\n      <td>52f65ca9498e084083ee43db</td>\n      <td>3</td>\n    </tr>\n    <tr>\n      <th>38</th>\n      <td>Ustaadi Restaurant</td>\n      <td>Lounge</td>\n      <td>B Block, Sitaram Building</td>\n      <td>18.945482</td>\n      <td>72.834270</td>\n      <td>755</td>\n      <td>59be9e8a3149b92b3cd3501e</td>\n      <td>3</td>\n    </tr>\n    <tr>\n      <th>40</th>\n      <td>Abhiruchi Restaurant</td>\n      <td>Asian Restaurant</td>\n      <td>Ramabai Ambedkar Marg</td>\n      <td>18.946803</td>\n      <td>72.835561</td>\n      <td>894</td>\n      <td>4dbbcfcdf7b1ab37dd4e2708</td>\n      <td>3</td>\n    </tr>\n    <tr>\n      <th>43</th>\n      <td>Radio Restaurant</td>\n      <td>Snack Place</td>\n      <td>NaN</td>\n      <td>18.947904</td>\n      <td>72.835886</td>\n      <td>1018</td>\n      <td>4e900e94b8f79f71de555687</td>\n      <td>3</td>\n    </tr>\n  </tbody>\n</table>\n</div>"
     },
     "metadata": {},
     "execution_count": 52
    }
   ],
   "source": [
    "print('Total: ', venues_df[venues_df['Cluster Labels'] == 3].shape[0])\n",
    "\n",
    "venues_df[venues_df['Cluster Labels'] == 3]"
   ]
  },
  {
   "source": [
    "#### Segment 5"
   ],
   "cell_type": "markdown",
   "metadata": {}
  },
  {
   "cell_type": "code",
   "execution_count": 53,
   "metadata": {},
   "outputs": [
    {
     "output_type": "stream",
     "name": "stdout",
     "text": [
      "Total:  5\n"
     ]
    },
    {
     "output_type": "execute_result",
     "data": {
      "text/plain": [
       "                                           Name  \\\n",
       "4                   Stadium Restaurant & Stores   \n",
       "22                            balaji restaurant   \n",
       "31                           Suruchi Restaurant   \n",
       "46  Secret Kitchen Of A Soon To Open Restaurant   \n",
       "48                         ShivSagar Restaurant   \n",
       "\n",
       "                         Categories               Address   Latitude  \\\n",
       "4                 Indian Restaurant     Veer Nariman Road  18.933173   \n",
       "22  Southern / Soul Food Restaurant             Ghatkopar  18.938389   \n",
       "31                Indian Restaurant  Near Sunderbhai Hall  18.938188   \n",
       "46                        Gastropub                   NaN  18.934718   \n",
       "48                Indian Restaurant                   NaN  18.933030   \n",
       "\n",
       "    Longitude  Distance                        Id  Cluster Labels  \n",
       "4   72.826929      1082  4c09449eed2595217aee1256               4  \n",
       "22  72.830032       560  5232e59611d2134cfc06f830               4  \n",
       "31  72.828679       703  4bc8252d0050b713b2e9b93b               4  \n",
       "46  72.826450      1038  5274a92411d2aff2671779b3               4  \n",
       "48  72.827410      1051  51d44f43498ebc021ff13f64               4  "
      ],
      "text/html": "<div>\n<style scoped>\n    .dataframe tbody tr th:only-of-type {\n        vertical-align: middle;\n    }\n\n    .dataframe tbody tr th {\n        vertical-align: top;\n    }\n\n    .dataframe thead th {\n        text-align: right;\n    }\n</style>\n<table border=\"1\" class=\"dataframe\">\n  <thead>\n    <tr style=\"text-align: right;\">\n      <th></th>\n      <th>Name</th>\n      <th>Categories</th>\n      <th>Address</th>\n      <th>Latitude</th>\n      <th>Longitude</th>\n      <th>Distance</th>\n      <th>Id</th>\n      <th>Cluster Labels</th>\n    </tr>\n  </thead>\n  <tbody>\n    <tr>\n      <th>4</th>\n      <td>Stadium Restaurant &amp; Stores</td>\n      <td>Indian Restaurant</td>\n      <td>Veer Nariman Road</td>\n      <td>18.933173</td>\n      <td>72.826929</td>\n      <td>1082</td>\n      <td>4c09449eed2595217aee1256</td>\n      <td>4</td>\n    </tr>\n    <tr>\n      <th>22</th>\n      <td>balaji restaurant</td>\n      <td>Southern / Soul Food Restaurant</td>\n      <td>Ghatkopar</td>\n      <td>18.938389</td>\n      <td>72.830032</td>\n      <td>560</td>\n      <td>5232e59611d2134cfc06f830</td>\n      <td>4</td>\n    </tr>\n    <tr>\n      <th>31</th>\n      <td>Suruchi Restaurant</td>\n      <td>Indian Restaurant</td>\n      <td>Near Sunderbhai Hall</td>\n      <td>18.938188</td>\n      <td>72.828679</td>\n      <td>703</td>\n      <td>4bc8252d0050b713b2e9b93b</td>\n      <td>4</td>\n    </tr>\n    <tr>\n      <th>46</th>\n      <td>Secret Kitchen Of A Soon To Open Restaurant</td>\n      <td>Gastropub</td>\n      <td>NaN</td>\n      <td>18.934718</td>\n      <td>72.826450</td>\n      <td>1038</td>\n      <td>5274a92411d2aff2671779b3</td>\n      <td>4</td>\n    </tr>\n    <tr>\n      <th>48</th>\n      <td>ShivSagar Restaurant</td>\n      <td>Indian Restaurant</td>\n      <td>NaN</td>\n      <td>18.933030</td>\n      <td>72.827410</td>\n      <td>1051</td>\n      <td>51d44f43498ebc021ff13f64</td>\n      <td>4</td>\n    </tr>\n  </tbody>\n</table>\n</div>"
     },
     "metadata": {},
     "execution_count": 53
    }
   ],
   "source": [
    "print('Total: ', venues_df[venues_df['Cluster Labels'] == 4].shape[0])\n",
    "\n",
    "venues_df[venues_df['Cluster Labels'] == 4]"
   ]
  },
  {
   "cell_type": "code",
   "execution_count": null,
   "metadata": {},
   "outputs": [],
   "source": []
  }
 ],
 "metadata": {
  "kernelspec": {
   "name": "Python 3.7.9 64-bit",
   "display_name": "Python 3.7.9 64-bit",
   "metadata": {
    "interpreter": {
     "hash": "e5ab2c0831cc3918e280caf70c9954f1341e95ea294587c509f8a65d4fd19c13"
    }
   }
  },
  "language_info": {
   "codemirror_mode": {
    "name": "ipython",
    "version": 3
   },
   "file_extension": ".py",
   "mimetype": "text/x-python",
   "name": "python",
   "nbconvert_exporter": "python",
   "pygments_lexer": "ipython3",
   "version": "3.7.9-final"
  }
 },
 "nbformat": 4,
 "nbformat_minor": 4
}